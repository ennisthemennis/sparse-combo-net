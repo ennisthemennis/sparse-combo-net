{
  "nbformat": 4,
  "nbformat_minor": 0,
  "metadata": {
    "accelerator": "GPU",
    "colab": {
      "provenance": [],
      "collapsed_sections": [],
      "include_colab_link": true
    },
    "kernelspec": {
      "display_name": "Python 3",
      "name": "python3"
    },
    "language_info": {
      "name": "python"
    },
    "widgets": {
      "application/vnd.jupyter.widget-state+json": {
        "402c49a338434eb999ca3772a1ed067c": {
          "model_module": "@jupyter-widgets/controls",
          "model_name": "HBoxModel",
          "model_module_version": "1.5.0",
          "state": {
            "_dom_classes": [],
            "_model_module": "@jupyter-widgets/controls",
            "_model_module_version": "1.5.0",
            "_model_name": "HBoxModel",
            "_view_count": null,
            "_view_module": "@jupyter-widgets/controls",
            "_view_module_version": "1.5.0",
            "_view_name": "HBoxView",
            "box_style": "",
            "children": [
              "IPY_MODEL_f368ffb9386c45bdb6636b2ac986ba3b",
              "IPY_MODEL_9d1e0c3f6f6543d6a4e327d530e48591",
              "IPY_MODEL_00c058bc9a994344ac995f9a50debf8d"
            ],
            "layout": "IPY_MODEL_5dc8df21406a474daad292127edc3bf4"
          }
        },
        "f368ffb9386c45bdb6636b2ac986ba3b": {
          "model_module": "@jupyter-widgets/controls",
          "model_name": "HTMLModel",
          "model_module_version": "1.5.0",
          "state": {
            "_dom_classes": [],
            "_model_module": "@jupyter-widgets/controls",
            "_model_module_version": "1.5.0",
            "_model_name": "HTMLModel",
            "_view_count": null,
            "_view_module": "@jupyter-widgets/controls",
            "_view_module_version": "1.5.0",
            "_view_name": "HTMLView",
            "description": "",
            "description_tooltip": null,
            "layout": "IPY_MODEL_e2fc778a7a354591a7a0db826102e3cb",
            "placeholder": "​",
            "style": "IPY_MODEL_3d3facc7d3df4cc7bbb2297ab422d9d2",
            "value": ""
          }
        },
        "9d1e0c3f6f6543d6a4e327d530e48591": {
          "model_module": "@jupyter-widgets/controls",
          "model_name": "FloatProgressModel",
          "model_module_version": "1.5.0",
          "state": {
            "_dom_classes": [],
            "_model_module": "@jupyter-widgets/controls",
            "_model_module_version": "1.5.0",
            "_model_name": "FloatProgressModel",
            "_view_count": null,
            "_view_module": "@jupyter-widgets/controls",
            "_view_module_version": "1.5.0",
            "_view_name": "ProgressView",
            "bar_style": "success",
            "description": "",
            "description_tooltip": null,
            "layout": "IPY_MODEL_a558f8b3561648088af81a230aa1b52b",
            "max": 170498071,
            "min": 0,
            "orientation": "horizontal",
            "style": "IPY_MODEL_f62fca230d05461cb0d73bb23644b4fa",
            "value": 170498071
          }
        },
        "00c058bc9a994344ac995f9a50debf8d": {
          "model_module": "@jupyter-widgets/controls",
          "model_name": "HTMLModel",
          "model_module_version": "1.5.0",
          "state": {
            "_dom_classes": [],
            "_model_module": "@jupyter-widgets/controls",
            "_model_module_version": "1.5.0",
            "_model_name": "HTMLModel",
            "_view_count": null,
            "_view_module": "@jupyter-widgets/controls",
            "_view_module_version": "1.5.0",
            "_view_name": "HTMLView",
            "description": "",
            "description_tooltip": null,
            "layout": "IPY_MODEL_7db30f5df5494e9bb0408a01ad86843f",
            "placeholder": "​",
            "style": "IPY_MODEL_d255cba49938427f95d340a681e2d4ee",
            "value": " 170499072/? [00:03&lt;00:00, 53964155.15it/s]"
          }
        },
        "5dc8df21406a474daad292127edc3bf4": {
          "model_module": "@jupyter-widgets/base",
          "model_name": "LayoutModel",
          "model_module_version": "1.2.0",
          "state": {
            "_model_module": "@jupyter-widgets/base",
            "_model_module_version": "1.2.0",
            "_model_name": "LayoutModel",
            "_view_count": null,
            "_view_module": "@jupyter-widgets/base",
            "_view_module_version": "1.2.0",
            "_view_name": "LayoutView",
            "align_content": null,
            "align_items": null,
            "align_self": null,
            "border": null,
            "bottom": null,
            "display": null,
            "flex": null,
            "flex_flow": null,
            "grid_area": null,
            "grid_auto_columns": null,
            "grid_auto_flow": null,
            "grid_auto_rows": null,
            "grid_column": null,
            "grid_gap": null,
            "grid_row": null,
            "grid_template_areas": null,
            "grid_template_columns": null,
            "grid_template_rows": null,
            "height": null,
            "justify_content": null,
            "justify_items": null,
            "left": null,
            "margin": null,
            "max_height": null,
            "max_width": null,
            "min_height": null,
            "min_width": null,
            "object_fit": null,
            "object_position": null,
            "order": null,
            "overflow": null,
            "overflow_x": null,
            "overflow_y": null,
            "padding": null,
            "right": null,
            "top": null,
            "visibility": null,
            "width": null
          }
        },
        "e2fc778a7a354591a7a0db826102e3cb": {
          "model_module": "@jupyter-widgets/base",
          "model_name": "LayoutModel",
          "model_module_version": "1.2.0",
          "state": {
            "_model_module": "@jupyter-widgets/base",
            "_model_module_version": "1.2.0",
            "_model_name": "LayoutModel",
            "_view_count": null,
            "_view_module": "@jupyter-widgets/base",
            "_view_module_version": "1.2.0",
            "_view_name": "LayoutView",
            "align_content": null,
            "align_items": null,
            "align_self": null,
            "border": null,
            "bottom": null,
            "display": null,
            "flex": null,
            "flex_flow": null,
            "grid_area": null,
            "grid_auto_columns": null,
            "grid_auto_flow": null,
            "grid_auto_rows": null,
            "grid_column": null,
            "grid_gap": null,
            "grid_row": null,
            "grid_template_areas": null,
            "grid_template_columns": null,
            "grid_template_rows": null,
            "height": null,
            "justify_content": null,
            "justify_items": null,
            "left": null,
            "margin": null,
            "max_height": null,
            "max_width": null,
            "min_height": null,
            "min_width": null,
            "object_fit": null,
            "object_position": null,
            "order": null,
            "overflow": null,
            "overflow_x": null,
            "overflow_y": null,
            "padding": null,
            "right": null,
            "top": null,
            "visibility": null,
            "width": null
          }
        },
        "3d3facc7d3df4cc7bbb2297ab422d9d2": {
          "model_module": "@jupyter-widgets/controls",
          "model_name": "DescriptionStyleModel",
          "model_module_version": "1.5.0",
          "state": {
            "_model_module": "@jupyter-widgets/controls",
            "_model_module_version": "1.5.0",
            "_model_name": "DescriptionStyleModel",
            "_view_count": null,
            "_view_module": "@jupyter-widgets/base",
            "_view_module_version": "1.2.0",
            "_view_name": "StyleView",
            "description_width": ""
          }
        },
        "a558f8b3561648088af81a230aa1b52b": {
          "model_module": "@jupyter-widgets/base",
          "model_name": "LayoutModel",
          "model_module_version": "1.2.0",
          "state": {
            "_model_module": "@jupyter-widgets/base",
            "_model_module_version": "1.2.0",
            "_model_name": "LayoutModel",
            "_view_count": null,
            "_view_module": "@jupyter-widgets/base",
            "_view_module_version": "1.2.0",
            "_view_name": "LayoutView",
            "align_content": null,
            "align_items": null,
            "align_self": null,
            "border": null,
            "bottom": null,
            "display": null,
            "flex": null,
            "flex_flow": null,
            "grid_area": null,
            "grid_auto_columns": null,
            "grid_auto_flow": null,
            "grid_auto_rows": null,
            "grid_column": null,
            "grid_gap": null,
            "grid_row": null,
            "grid_template_areas": null,
            "grid_template_columns": null,
            "grid_template_rows": null,
            "height": null,
            "justify_content": null,
            "justify_items": null,
            "left": null,
            "margin": null,
            "max_height": null,
            "max_width": null,
            "min_height": null,
            "min_width": null,
            "object_fit": null,
            "object_position": null,
            "order": null,
            "overflow": null,
            "overflow_x": null,
            "overflow_y": null,
            "padding": null,
            "right": null,
            "top": null,
            "visibility": null,
            "width": null
          }
        },
        "f62fca230d05461cb0d73bb23644b4fa": {
          "model_module": "@jupyter-widgets/controls",
          "model_name": "ProgressStyleModel",
          "model_module_version": "1.5.0",
          "state": {
            "_model_module": "@jupyter-widgets/controls",
            "_model_module_version": "1.5.0",
            "_model_name": "ProgressStyleModel",
            "_view_count": null,
            "_view_module": "@jupyter-widgets/base",
            "_view_module_version": "1.2.0",
            "_view_name": "StyleView",
            "bar_color": null,
            "description_width": ""
          }
        },
        "7db30f5df5494e9bb0408a01ad86843f": {
          "model_module": "@jupyter-widgets/base",
          "model_name": "LayoutModel",
          "model_module_version": "1.2.0",
          "state": {
            "_model_module": "@jupyter-widgets/base",
            "_model_module_version": "1.2.0",
            "_model_name": "LayoutModel",
            "_view_count": null,
            "_view_module": "@jupyter-widgets/base",
            "_view_module_version": "1.2.0",
            "_view_name": "LayoutView",
            "align_content": null,
            "align_items": null,
            "align_self": null,
            "border": null,
            "bottom": null,
            "display": null,
            "flex": null,
            "flex_flow": null,
            "grid_area": null,
            "grid_auto_columns": null,
            "grid_auto_flow": null,
            "grid_auto_rows": null,
            "grid_column": null,
            "grid_gap": null,
            "grid_row": null,
            "grid_template_areas": null,
            "grid_template_columns": null,
            "grid_template_rows": null,
            "height": null,
            "justify_content": null,
            "justify_items": null,
            "left": null,
            "margin": null,
            "max_height": null,
            "max_width": null,
            "min_height": null,
            "min_width": null,
            "object_fit": null,
            "object_position": null,
            "order": null,
            "overflow": null,
            "overflow_x": null,
            "overflow_y": null,
            "padding": null,
            "right": null,
            "top": null,
            "visibility": null,
            "width": null
          }
        },
        "d255cba49938427f95d340a681e2d4ee": {
          "model_module": "@jupyter-widgets/controls",
          "model_name": "DescriptionStyleModel",
          "model_module_version": "1.5.0",
          "state": {
            "_model_module": "@jupyter-widgets/controls",
            "_model_module_version": "1.5.0",
            "_model_name": "DescriptionStyleModel",
            "_view_count": null,
            "_view_module": "@jupyter-widgets/base",
            "_view_module_version": "1.2.0",
            "_view_name": "StyleView",
            "description_width": ""
          }
        },
        "b9e4dd882ace4ec2932ff3f0b3b1a739": {
          "model_module": "@jupyter-widgets/controls",
          "model_name": "HBoxModel",
          "model_module_version": "1.5.0",
          "state": {
            "_dom_classes": [],
            "_model_module": "@jupyter-widgets/controls",
            "_model_module_version": "1.5.0",
            "_model_name": "HBoxModel",
            "_view_count": null,
            "_view_module": "@jupyter-widgets/controls",
            "_view_module_version": "1.5.0",
            "_view_name": "HBoxView",
            "box_style": "",
            "children": [
              "IPY_MODEL_49bd4b5b36a24c1498da27b083d6c0d8",
              "IPY_MODEL_d81cf0995bc84d4a96fd3198c88f7347",
              "IPY_MODEL_32ca536d74184c6a9d9a01796e2e7f1b"
            ],
            "layout": "IPY_MODEL_890714272fe8445bbfa4327acbcaa7be"
          }
        },
        "49bd4b5b36a24c1498da27b083d6c0d8": {
          "model_module": "@jupyter-widgets/controls",
          "model_name": "HTMLModel",
          "model_module_version": "1.5.0",
          "state": {
            "_dom_classes": [],
            "_model_module": "@jupyter-widgets/controls",
            "_model_module_version": "1.5.0",
            "_model_name": "HTMLModel",
            "_view_count": null,
            "_view_module": "@jupyter-widgets/controls",
            "_view_module_version": "1.5.0",
            "_view_name": "HTMLView",
            "description": "",
            "description_tooltip": null,
            "layout": "IPY_MODEL_f4998d78b3374bf18acf67f98c086804",
            "placeholder": "​",
            "style": "IPY_MODEL_e8cdc30420924b1b9868426dfb14c443",
            "value": "  0%"
          }
        },
        "d81cf0995bc84d4a96fd3198c88f7347": {
          "model_module": "@jupyter-widgets/controls",
          "model_name": "FloatProgressModel",
          "model_module_version": "1.5.0",
          "state": {
            "_dom_classes": [],
            "_model_module": "@jupyter-widgets/controls",
            "_model_module_version": "1.5.0",
            "_model_name": "FloatProgressModel",
            "_view_count": null,
            "_view_module": "@jupyter-widgets/controls",
            "_view_module_version": "1.5.0",
            "_view_name": "ProgressView",
            "bar_style": "",
            "description": "",
            "description_tooltip": null,
            "layout": "IPY_MODEL_b81e7d2f7bcd4a048fe7469042a65069",
            "max": 200,
            "min": 0,
            "orientation": "horizontal",
            "style": "IPY_MODEL_952ea1409dca4436a89583237e01bbea",
            "value": 0
          }
        },
        "32ca536d74184c6a9d9a01796e2e7f1b": {
          "model_module": "@jupyter-widgets/controls",
          "model_name": "HTMLModel",
          "model_module_version": "1.5.0",
          "state": {
            "_dom_classes": [],
            "_model_module": "@jupyter-widgets/controls",
            "_model_module_version": "1.5.0",
            "_model_name": "HTMLModel",
            "_view_count": null,
            "_view_module": "@jupyter-widgets/controls",
            "_view_module_version": "1.5.0",
            "_view_name": "HTMLView",
            "description": "",
            "description_tooltip": null,
            "layout": "IPY_MODEL_ede0507a78f4475db216e86426d0b3a4",
            "placeholder": "​",
            "style": "IPY_MODEL_57716db308cd4afc96731a55d87a9494",
            "value": " 0/200 [00:00&lt;?, ?it/s]"
          }
        },
        "890714272fe8445bbfa4327acbcaa7be": {
          "model_module": "@jupyter-widgets/base",
          "model_name": "LayoutModel",
          "model_module_version": "1.2.0",
          "state": {
            "_model_module": "@jupyter-widgets/base",
            "_model_module_version": "1.2.0",
            "_model_name": "LayoutModel",
            "_view_count": null,
            "_view_module": "@jupyter-widgets/base",
            "_view_module_version": "1.2.0",
            "_view_name": "LayoutView",
            "align_content": null,
            "align_items": null,
            "align_self": null,
            "border": null,
            "bottom": null,
            "display": null,
            "flex": null,
            "flex_flow": null,
            "grid_area": null,
            "grid_auto_columns": null,
            "grid_auto_flow": null,
            "grid_auto_rows": null,
            "grid_column": null,
            "grid_gap": null,
            "grid_row": null,
            "grid_template_areas": null,
            "grid_template_columns": null,
            "grid_template_rows": null,
            "height": null,
            "justify_content": null,
            "justify_items": null,
            "left": null,
            "margin": null,
            "max_height": null,
            "max_width": null,
            "min_height": null,
            "min_width": null,
            "object_fit": null,
            "object_position": null,
            "order": null,
            "overflow": null,
            "overflow_x": null,
            "overflow_y": null,
            "padding": null,
            "right": null,
            "top": null,
            "visibility": null,
            "width": null
          }
        },
        "f4998d78b3374bf18acf67f98c086804": {
          "model_module": "@jupyter-widgets/base",
          "model_name": "LayoutModel",
          "model_module_version": "1.2.0",
          "state": {
            "_model_module": "@jupyter-widgets/base",
            "_model_module_version": "1.2.0",
            "_model_name": "LayoutModel",
            "_view_count": null,
            "_view_module": "@jupyter-widgets/base",
            "_view_module_version": "1.2.0",
            "_view_name": "LayoutView",
            "align_content": null,
            "align_items": null,
            "align_self": null,
            "border": null,
            "bottom": null,
            "display": null,
            "flex": null,
            "flex_flow": null,
            "grid_area": null,
            "grid_auto_columns": null,
            "grid_auto_flow": null,
            "grid_auto_rows": null,
            "grid_column": null,
            "grid_gap": null,
            "grid_row": null,
            "grid_template_areas": null,
            "grid_template_columns": null,
            "grid_template_rows": null,
            "height": null,
            "justify_content": null,
            "justify_items": null,
            "left": null,
            "margin": null,
            "max_height": null,
            "max_width": null,
            "min_height": null,
            "min_width": null,
            "object_fit": null,
            "object_position": null,
            "order": null,
            "overflow": null,
            "overflow_x": null,
            "overflow_y": null,
            "padding": null,
            "right": null,
            "top": null,
            "visibility": null,
            "width": null
          }
        },
        "e8cdc30420924b1b9868426dfb14c443": {
          "model_module": "@jupyter-widgets/controls",
          "model_name": "DescriptionStyleModel",
          "model_module_version": "1.5.0",
          "state": {
            "_model_module": "@jupyter-widgets/controls",
            "_model_module_version": "1.5.0",
            "_model_name": "DescriptionStyleModel",
            "_view_count": null,
            "_view_module": "@jupyter-widgets/base",
            "_view_module_version": "1.2.0",
            "_view_name": "StyleView",
            "description_width": ""
          }
        },
        "b81e7d2f7bcd4a048fe7469042a65069": {
          "model_module": "@jupyter-widgets/base",
          "model_name": "LayoutModel",
          "model_module_version": "1.2.0",
          "state": {
            "_model_module": "@jupyter-widgets/base",
            "_model_module_version": "1.2.0",
            "_model_name": "LayoutModel",
            "_view_count": null,
            "_view_module": "@jupyter-widgets/base",
            "_view_module_version": "1.2.0",
            "_view_name": "LayoutView",
            "align_content": null,
            "align_items": null,
            "align_self": null,
            "border": null,
            "bottom": null,
            "display": null,
            "flex": null,
            "flex_flow": null,
            "grid_area": null,
            "grid_auto_columns": null,
            "grid_auto_flow": null,
            "grid_auto_rows": null,
            "grid_column": null,
            "grid_gap": null,
            "grid_row": null,
            "grid_template_areas": null,
            "grid_template_columns": null,
            "grid_template_rows": null,
            "height": null,
            "justify_content": null,
            "justify_items": null,
            "left": null,
            "margin": null,
            "max_height": null,
            "max_width": null,
            "min_height": null,
            "min_width": null,
            "object_fit": null,
            "object_position": null,
            "order": null,
            "overflow": null,
            "overflow_x": null,
            "overflow_y": null,
            "padding": null,
            "right": null,
            "top": null,
            "visibility": null,
            "width": null
          }
        },
        "952ea1409dca4436a89583237e01bbea": {
          "model_module": "@jupyter-widgets/controls",
          "model_name": "ProgressStyleModel",
          "model_module_version": "1.5.0",
          "state": {
            "_model_module": "@jupyter-widgets/controls",
            "_model_module_version": "1.5.0",
            "_model_name": "ProgressStyleModel",
            "_view_count": null,
            "_view_module": "@jupyter-widgets/base",
            "_view_module_version": "1.2.0",
            "_view_name": "StyleView",
            "bar_color": null,
            "description_width": ""
          }
        },
        "ede0507a78f4475db216e86426d0b3a4": {
          "model_module": "@jupyter-widgets/base",
          "model_name": "LayoutModel",
          "model_module_version": "1.2.0",
          "state": {
            "_model_module": "@jupyter-widgets/base",
            "_model_module_version": "1.2.0",
            "_model_name": "LayoutModel",
            "_view_count": null,
            "_view_module": "@jupyter-widgets/base",
            "_view_module_version": "1.2.0",
            "_view_name": "LayoutView",
            "align_content": null,
            "align_items": null,
            "align_self": null,
            "border": null,
            "bottom": null,
            "display": null,
            "flex": null,
            "flex_flow": null,
            "grid_area": null,
            "grid_auto_columns": null,
            "grid_auto_flow": null,
            "grid_auto_rows": null,
            "grid_column": null,
            "grid_gap": null,
            "grid_row": null,
            "grid_template_areas": null,
            "grid_template_columns": null,
            "grid_template_rows": null,
            "height": null,
            "justify_content": null,
            "justify_items": null,
            "left": null,
            "margin": null,
            "max_height": null,
            "max_width": null,
            "min_height": null,
            "min_width": null,
            "object_fit": null,
            "object_position": null,
            "order": null,
            "overflow": null,
            "overflow_x": null,
            "overflow_y": null,
            "padding": null,
            "right": null,
            "top": null,
            "visibility": null,
            "width": null
          }
        },
        "57716db308cd4afc96731a55d87a9494": {
          "model_module": "@jupyter-widgets/controls",
          "model_name": "DescriptionStyleModel",
          "model_module_version": "1.5.0",
          "state": {
            "_model_module": "@jupyter-widgets/controls",
            "_model_module_version": "1.5.0",
            "_model_name": "DescriptionStyleModel",
            "_view_count": null,
            "_view_module": "@jupyter-widgets/base",
            "_view_module_version": "1.2.0",
            "_view_name": "StyleView",
            "description_width": ""
          }
        },
        "2bb37cd589dd4f3d95fe415a07139e42": {
          "model_module": "@jupyter-widgets/controls",
          "model_name": "HBoxModel",
          "model_module_version": "1.5.0",
          "state": {
            "_dom_classes": [],
            "_model_module": "@jupyter-widgets/controls",
            "_model_module_version": "1.5.0",
            "_model_name": "HBoxModel",
            "_view_count": null,
            "_view_module": "@jupyter-widgets/controls",
            "_view_module_version": "1.5.0",
            "_view_name": "HBoxView",
            "box_style": "",
            "children": [
              "IPY_MODEL_59dcbcf641f44a739657c6cb26e5bfb7",
              "IPY_MODEL_61f0d66877e5411f811aeee4d75d5f2b",
              "IPY_MODEL_432c39d3f1d343468e95a66c9ef2a97e"
            ],
            "layout": "IPY_MODEL_ceebcc51420c45619542bc707a503198"
          }
        },
        "59dcbcf641f44a739657c6cb26e5bfb7": {
          "model_module": "@jupyter-widgets/controls",
          "model_name": "HTMLModel",
          "model_module_version": "1.5.0",
          "state": {
            "_dom_classes": [],
            "_model_module": "@jupyter-widgets/controls",
            "_model_module_version": "1.5.0",
            "_model_name": "HTMLModel",
            "_view_count": null,
            "_view_module": "@jupyter-widgets/controls",
            "_view_module_version": "1.5.0",
            "_view_name": "HTMLView",
            "description": "",
            "description_tooltip": null,
            "layout": "IPY_MODEL_0a5e7bbb522140648468ecdd1d4eac6d",
            "placeholder": "​",
            "style": "IPY_MODEL_55cc46ee24884b7db626c8e6c0775ede",
            "value": " 15%"
          }
        },
        "61f0d66877e5411f811aeee4d75d5f2b": {
          "model_module": "@jupyter-widgets/controls",
          "model_name": "FloatProgressModel",
          "model_module_version": "1.5.0",
          "state": {
            "_dom_classes": [],
            "_model_module": "@jupyter-widgets/controls",
            "_model_module_version": "1.5.0",
            "_model_name": "FloatProgressModel",
            "_view_count": null,
            "_view_module": "@jupyter-widgets/controls",
            "_view_module_version": "1.5.0",
            "_view_name": "ProgressView",
            "bar_style": "",
            "description": "",
            "description_tooltip": null,
            "layout": "IPY_MODEL_35d099abbbdd40c5b9c2582376a1bd5c",
            "max": 750,
            "min": 0,
            "orientation": "horizontal",
            "style": "IPY_MODEL_e3e5fcb180284ad3a7dade9eb0dd5452",
            "value": 116
          }
        },
        "432c39d3f1d343468e95a66c9ef2a97e": {
          "model_module": "@jupyter-widgets/controls",
          "model_name": "HTMLModel",
          "model_module_version": "1.5.0",
          "state": {
            "_dom_classes": [],
            "_model_module": "@jupyter-widgets/controls",
            "_model_module_version": "1.5.0",
            "_model_name": "HTMLModel",
            "_view_count": null,
            "_view_module": "@jupyter-widgets/controls",
            "_view_module_version": "1.5.0",
            "_view_name": "HTMLView",
            "description": "",
            "description_tooltip": null,
            "layout": "IPY_MODEL_18154daea3bf42a9be763731cf7e23d2",
            "placeholder": "​",
            "style": "IPY_MODEL_425599e140654494bb0e7b33ea772c8b",
            "value": " 115/750 [01:05&lt;05:54,  1.79it/s]"
          }
        },
        "ceebcc51420c45619542bc707a503198": {
          "model_module": "@jupyter-widgets/base",
          "model_name": "LayoutModel",
          "model_module_version": "1.2.0",
          "state": {
            "_model_module": "@jupyter-widgets/base",
            "_model_module_version": "1.2.0",
            "_model_name": "LayoutModel",
            "_view_count": null,
            "_view_module": "@jupyter-widgets/base",
            "_view_module_version": "1.2.0",
            "_view_name": "LayoutView",
            "align_content": null,
            "align_items": null,
            "align_self": null,
            "border": null,
            "bottom": null,
            "display": null,
            "flex": null,
            "flex_flow": null,
            "grid_area": null,
            "grid_auto_columns": null,
            "grid_auto_flow": null,
            "grid_auto_rows": null,
            "grid_column": null,
            "grid_gap": null,
            "grid_row": null,
            "grid_template_areas": null,
            "grid_template_columns": null,
            "grid_template_rows": null,
            "height": null,
            "justify_content": null,
            "justify_items": null,
            "left": null,
            "margin": null,
            "max_height": null,
            "max_width": null,
            "min_height": null,
            "min_width": null,
            "object_fit": null,
            "object_position": null,
            "order": null,
            "overflow": null,
            "overflow_x": null,
            "overflow_y": null,
            "padding": null,
            "right": null,
            "top": null,
            "visibility": null,
            "width": null
          }
        },
        "0a5e7bbb522140648468ecdd1d4eac6d": {
          "model_module": "@jupyter-widgets/base",
          "model_name": "LayoutModel",
          "model_module_version": "1.2.0",
          "state": {
            "_model_module": "@jupyter-widgets/base",
            "_model_module_version": "1.2.0",
            "_model_name": "LayoutModel",
            "_view_count": null,
            "_view_module": "@jupyter-widgets/base",
            "_view_module_version": "1.2.0",
            "_view_name": "LayoutView",
            "align_content": null,
            "align_items": null,
            "align_self": null,
            "border": null,
            "bottom": null,
            "display": null,
            "flex": null,
            "flex_flow": null,
            "grid_area": null,
            "grid_auto_columns": null,
            "grid_auto_flow": null,
            "grid_auto_rows": null,
            "grid_column": null,
            "grid_gap": null,
            "grid_row": null,
            "grid_template_areas": null,
            "grid_template_columns": null,
            "grid_template_rows": null,
            "height": null,
            "justify_content": null,
            "justify_items": null,
            "left": null,
            "margin": null,
            "max_height": null,
            "max_width": null,
            "min_height": null,
            "min_width": null,
            "object_fit": null,
            "object_position": null,
            "order": null,
            "overflow": null,
            "overflow_x": null,
            "overflow_y": null,
            "padding": null,
            "right": null,
            "top": null,
            "visibility": null,
            "width": null
          }
        },
        "55cc46ee24884b7db626c8e6c0775ede": {
          "model_module": "@jupyter-widgets/controls",
          "model_name": "DescriptionStyleModel",
          "model_module_version": "1.5.0",
          "state": {
            "_model_module": "@jupyter-widgets/controls",
            "_model_module_version": "1.5.0",
            "_model_name": "DescriptionStyleModel",
            "_view_count": null,
            "_view_module": "@jupyter-widgets/base",
            "_view_module_version": "1.2.0",
            "_view_name": "StyleView",
            "description_width": ""
          }
        },
        "35d099abbbdd40c5b9c2582376a1bd5c": {
          "model_module": "@jupyter-widgets/base",
          "model_name": "LayoutModel",
          "model_module_version": "1.2.0",
          "state": {
            "_model_module": "@jupyter-widgets/base",
            "_model_module_version": "1.2.0",
            "_model_name": "LayoutModel",
            "_view_count": null,
            "_view_module": "@jupyter-widgets/base",
            "_view_module_version": "1.2.0",
            "_view_name": "LayoutView",
            "align_content": null,
            "align_items": null,
            "align_self": null,
            "border": null,
            "bottom": null,
            "display": null,
            "flex": null,
            "flex_flow": null,
            "grid_area": null,
            "grid_auto_columns": null,
            "grid_auto_flow": null,
            "grid_auto_rows": null,
            "grid_column": null,
            "grid_gap": null,
            "grid_row": null,
            "grid_template_areas": null,
            "grid_template_columns": null,
            "grid_template_rows": null,
            "height": null,
            "justify_content": null,
            "justify_items": null,
            "left": null,
            "margin": null,
            "max_height": null,
            "max_width": null,
            "min_height": null,
            "min_width": null,
            "object_fit": null,
            "object_position": null,
            "order": null,
            "overflow": null,
            "overflow_x": null,
            "overflow_y": null,
            "padding": null,
            "right": null,
            "top": null,
            "visibility": null,
            "width": null
          }
        },
        "e3e5fcb180284ad3a7dade9eb0dd5452": {
          "model_module": "@jupyter-widgets/controls",
          "model_name": "ProgressStyleModel",
          "model_module_version": "1.5.0",
          "state": {
            "_model_module": "@jupyter-widgets/controls",
            "_model_module_version": "1.5.0",
            "_model_name": "ProgressStyleModel",
            "_view_count": null,
            "_view_module": "@jupyter-widgets/base",
            "_view_module_version": "1.2.0",
            "_view_name": "StyleView",
            "bar_color": null,
            "description_width": ""
          }
        },
        "18154daea3bf42a9be763731cf7e23d2": {
          "model_module": "@jupyter-widgets/base",
          "model_name": "LayoutModel",
          "model_module_version": "1.2.0",
          "state": {
            "_model_module": "@jupyter-widgets/base",
            "_model_module_version": "1.2.0",
            "_model_name": "LayoutModel",
            "_view_count": null,
            "_view_module": "@jupyter-widgets/base",
            "_view_module_version": "1.2.0",
            "_view_name": "LayoutView",
            "align_content": null,
            "align_items": null,
            "align_self": null,
            "border": null,
            "bottom": null,
            "display": null,
            "flex": null,
            "flex_flow": null,
            "grid_area": null,
            "grid_auto_columns": null,
            "grid_auto_flow": null,
            "grid_auto_rows": null,
            "grid_column": null,
            "grid_gap": null,
            "grid_row": null,
            "grid_template_areas": null,
            "grid_template_columns": null,
            "grid_template_rows": null,
            "height": null,
            "justify_content": null,
            "justify_items": null,
            "left": null,
            "margin": null,
            "max_height": null,
            "max_width": null,
            "min_height": null,
            "min_width": null,
            "object_fit": null,
            "object_position": null,
            "order": null,
            "overflow": null,
            "overflow_x": null,
            "overflow_y": null,
            "padding": null,
            "right": null,
            "top": null,
            "visibility": null,
            "width": null
          }
        },
        "425599e140654494bb0e7b33ea772c8b": {
          "model_module": "@jupyter-widgets/controls",
          "model_name": "DescriptionStyleModel",
          "model_module_version": "1.5.0",
          "state": {
            "_model_module": "@jupyter-widgets/controls",
            "_model_module_version": "1.5.0",
            "_model_name": "DescriptionStyleModel",
            "_view_count": null,
            "_view_module": "@jupyter-widgets/base",
            "_view_module_version": "1.2.0",
            "_view_name": "StyleView",
            "description_width": ""
          }
        }
      }
    }
  },
  "cells": [
    {
      "cell_type": "markdown",
      "metadata": {
        "id": "view-in-github",
        "colab_type": "text"
      },
      "source": [
        "<a href=\"https://colab.research.google.com/github/ennisthemennis/sparse-combo-net/blob/main/sparse_combo_RNNs_to_share.ipynb\" target=\"_parent\"><img src=\"https://colab.research.google.com/assets/colab-badge.svg\" alt=\"Open In Colab\"/></a>"
      ]
    },
    {
      "cell_type": "code",
      "metadata": {
        "id": "ntDs_OIQpyqR"
      },
      "source": [
        "# Google Colab notebook that can be used to run trials reported on in \"RECURSIVE CONSTRUCTION OF STABLE ASSEMBLIES OF RECURRENT NEURAL NETWORKS\"\n",
        "# major user settings are found in the next two cells after this\n",
        "# desired trial can then be run by simply running all cells\n",
        "# code expects GPU runtime, efficiency may vary depending on assigned GPU\n",
        "\n",
        "# existing output seen in later cells is from trial #10 of the CIFAR10 repeatability experiments\n",
        "\n",
        "import torch\n",
        "import torch.nn as nn\n",
        "import torch.nn.functional as F\n",
        "import torch.optim as optim\n",
        "import torch.jit as jit\n",
        "from torch.autograd import Variable\n",
        "from torch.utils.data import Dataset, DataLoader, Subset\n",
        "from torch._utils import _accumulate\n",
        "from torchvision import datasets, transforms\n",
        "\n",
        "from sklearn.model_selection import train_test_split \n",
        "from tqdm.auto import tqdm\n",
        "\n",
        "import numpy as np\n",
        "import numpy.random as npr\n",
        "import scipy.sparse\n",
        "import scipy.integrate\n",
        "\n",
        "import pandas as pd\n",
        "import matplotlib.pyplot as plt\n",
        "import os"
      ],
      "execution_count": null,
      "outputs": []
    },
    {
      "cell_type": "code",
      "metadata": {
        "id": "SKuhEHMqKt5T"
      },
      "source": [
        "# major model settings - by default best performing settings\n",
        "task = \"cifar10\" # will accept cifar10, pmnist, or mnist\n",
        "ns = [32 for x in range(16)] # list of integers, with each integer being the size for a component RNN. the number of component RNNs is then the length of the list\n",
        "rnn_density = 0.033 # density setting for each component RNN\n",
        "pre_scalar = 30.0 # sample non-zero entries for potential component RNN uniformly from -pre_scalar to pre_scalar, keep only if satisfies theorem 1\n",
        "# (note that if density and pre_scalar settings are both too large code will stall because it will be impossible to find component RNNs meeting the condition)\n",
        "post_scalar = 0.2 # multiply chosen component RNNs by post_scalar before beginning training (should be a positive number <= 1)\n",
        "\n",
        "# training settings - uses Adam optimizer\n",
        "num_epochs = 200\n",
        "lr = 1e-3\n",
        "lr_scale_epochs = [140, 190] # the epochs after which to perform a learning rate cut\n",
        "lr_scalar = 0.1 # the scalar to multiply the learning rate by at the specified epochs\n",
        "weight_decay = 1e-5\n",
        "\n",
        "# adjacency matrix settings - this is experimental\n",
        "A_sparsity = 0 # this will be fraction of possible negative feedback connections between component RNNs that are set to 0"
      ],
      "execution_count": null,
      "outputs": []
    },
    {
      "cell_type": "code",
      "metadata": {
        "colab": {
          "base_uri": "https://localhost:8080/"
        },
        "id": "oZlVeZlEHKQx",
        "outputId": "0bc09102-424e-4eb7-9eeb-55f8452eacac"
      },
      "source": [
        "# settings for saving model stats and checkpoints using a specified Google Drive account\n",
        "# model checkpoint is saved after each epoch, as well as an updated CSV with per-epoch training loss and test accuracy\n",
        "\n",
        "from google.colab import drive\n",
        "drive.mount('/content/drive')\n",
        "\n",
        "# output file path info\n",
        "output_root = \"/content/drive/My Drive\" # folder path everything will be saved to\n",
        "model_name = \"Test\" # specific trial name to use as part of each file's save name"
      ],
      "execution_count": null,
      "outputs": [
        {
          "name": "stdout",
          "output_type": "stream",
          "text": [
            "Mounted at /content/drive\n"
          ]
        }
      ]
    },
    {
      "cell_type": "code",
      "metadata": {
        "colab": {
          "base_uri": "https://localhost:8080/"
        },
        "id": "UbecPCk3vcYA",
        "outputId": "83f068b1-d441-49d4-9fd6-be3ea3f8c441"
      },
      "source": [
        "# use GPU\n",
        "device = torch.device(\"cuda\" if torch.cuda.is_available() else \"cpu\")\n",
        "if device.type == 'cuda':\n",
        "    print('Default tensor type is now cuda')\n",
        "    torch.set_default_tensor_type('torch.cuda.FloatTensor')"
      ],
      "execution_count": null,
      "outputs": [
        {
          "name": "stdout",
          "output_type": "stream",
          "text": [
            "Default tensor type is now cuda\n"
          ]
        }
      ]
    },
    {
      "cell_type": "code",
      "metadata": {
        "id": "RlMls_I4aA6-"
      },
      "source": [
        "# functions for initializing the sparse matrices\n",
        "\n",
        "# function that checks the Theorem 1 condition for an input square matrix\n",
        "def check_cond(W):\n",
        "    W_diag_only = np.diag(np.diag(W))\n",
        "    W_diag_pos_only = W_diag_only.copy()\n",
        "    W_diag_pos_only[W_diag_pos_only < 0] = 0.0\n",
        "    W_abs_cond = np.abs(W - W_diag_only) + W_diag_pos_only\n",
        "    max_eig_abs_cond = np.max(np.real(np.linalg.eigvals(W_abs_cond)))\n",
        "    if max_eig_abs_cond < 1:\n",
        "        return True\n",
        "    else:\n",
        "        return False\n",
        "\n",
        "# sampling function to use for each non-zero element in a generated matrix\n",
        "# (uniform but between -1 and 1 instead of default 0 to 1)\n",
        "def uniform_with_neg(x):\n",
        "    return np.random.uniform(low=-1.0,high=1.0, size=x)\n",
        "\n",
        "# function that creates a square matrix of a given size with a given density and distribution (+ scalar for the distribution)\n",
        "# also zeroes out the diagonal after generation\n",
        "# the uniform_with_neg function is used as the sampling function by default\n",
        "def generate_random_sparse_matrix(num_units, density, dist_multiplier, dist_func=uniform_with_neg):\n",
        "    test = scipy.sparse.random(num_units,num_units,density=density,format='csr',data_rvs=dist_func)\n",
        "    np_test = test.toarray()\n",
        "    np_test = dist_multiplier * np_test\n",
        "    np.fill_diagonal(np_test, 0)\n",
        "    return np_test\n",
        "\n",
        "# create a full set of RNN modules using the above functions\n",
        "# will only keep a given random RNN if it meets the condition for theorem 1\n",
        "def create_modules(module_sizes, density, dist_multiplier, post_select_multiplier):\n",
        "    modules = []\n",
        "    for m in module_sizes:\n",
        "        okay = False\n",
        "        while not okay:\n",
        "            cur_matrix = generate_random_sparse_matrix(m, density, dist_multiplier)\n",
        "            okay = check_cond(cur_matrix)\n",
        "        cur_matrix = post_select_multiplier * cur_matrix # once reach here the current matrix is one of the ones selected\n",
        "        modules.append(cur_matrix)\n",
        "    return modules\n",
        "\n",
        "# function to put together the generated component RNNs into one big block diagonal weight matrix\n",
        "def combine_W(W_list):\n",
        "    shapes = [w.shape[0] for w in W_list]\n",
        "    total_size = np.sum(shapes)\n",
        "    full_W = np.zeros((total_size, total_size))\n",
        "    for i in range(len(W_list)):\n",
        "        cur_W = W_list[i]\n",
        "        cur_size = shapes[i]\n",
        "        first_index = int(np.sum(shapes[0:i]))\n",
        "        last_index = first_index + cur_size\n",
        "        full_W[first_index:last_index, first_index:last_index] = cur_W\n",
        "    return full_W\n",
        "\n",
        "# use theorem 1 + info about linear stability to find a metric for a given weight matrix (expected to be generated from the above)\n",
        "def find_M(W_inp):\n",
        "    # what we actually want to find metric for is W - I -> just W won't be stable here\n",
        "    # also first need to focus on abs(W), not W itself! that is what linear stable test can find, the same metric will then work for the other (per Thm 1)\n",
        "    W = np.abs(W_inp) # diagonal is set to 0 already so no need to worry about that\n",
        "    W = W - np.identity(W.shape[0])\n",
        "    # this just finds some M that will work, could be many others\n",
        "    Q = np.identity(W.shape[0])\n",
        "    # solve for M in -Q = M * W + np.transpose(W) * M\n",
        "    # using integration formula for LTI system\n",
        "    P = np.zeros(W.shape)\n",
        "    for i in range(W.shape[0]):\n",
        "        # integrating elementwise\n",
        "        # keep off-diags as 0 to save time with larger martrix, as know there will be some diagonal metric, expect good odds that will find one with Q = I\n",
        "        # will confirm the metric works before moving forward though (done in final function below), to be sure with stability guarantee\n",
        "        def func_to_integrate(t):\n",
        "            og_func = np.exp(np.transpose(W) * t) * Q * np.exp(W * t)\n",
        "            return og_func[i, i]\n",
        "        P[i,i] = scipy.integrate.quad(func_to_integrate, 0, np.inf)[0]\n",
        "    if np.max(np.linalg.eigvals(P)) <= 0:\n",
        "        # guaranteed M will be symmetric as it is definitely diagonal here, but also need it be PD for it to be a valid metric\n",
        "        # should never reach this in theory, but add as a check to be safe\n",
        "        print(\"returned metric not PD, problem!\")\n",
        "        return None\n",
        "    return P\n",
        "\n",
        "# replaced version of this function with more efficient one when I started using this notebook for the final version of the CIFAR10 experiment repetitions\n",
        "# put everything together to get W and M to perform the training with\n",
        "# W is of course part of the network\n",
        "# M is used in finding negative feedback connections between components of W that maintain stability\n",
        "# neither are themselves updated over the course of training\n",
        "def generate_initial_W_M(module_sizes, density, dist_multiplier, post_select_multiplier):\n",
        "    individual_networks = create_modules(module_sizes, density, dist_multiplier, post_select_multiplier)\n",
        "    full_W = combine_W(individual_networks)\n",
        "\n",
        "    # in prior experiments 0.5 * I was metric generally found\n",
        "    # so just use that if it will work - only integrate if necessary\n",
        "    matching_M = 0.5*np.identity(full_W.shape[0])\n",
        "    check_formula = matching_M * (np.abs(full_W) - np.identity(full_W.shape[0])) + np.transpose(np.abs(full_W) - np.identity(full_W.shape[0])) * matching_M\n",
        "    if np.max(np.linalg.eigvals(check_formula)) >= 0:\n",
        "        matching_M = find_M(full_W)\n",
        "\n",
        "        # confirm that M does work to satisfy the Theorem 1 condition with this W\n",
        "        check_formula = matching_M * (np.abs(full_W) - np.identity(full_W.shape[0])) + np.transpose(np.abs(full_W) - np.identity(full_W.shape[0])) * matching_M\n",
        "        if np.max(np.linalg.eigvals(check_formula)) >= 0:\n",
        "            print(\"problem with found metric!\")\n",
        "            return None\n",
        "\n",
        "    # return the final W and M\n",
        "    # need these to be tensors for computation to work - but they aren't parameters!\n",
        "    return torch.from_numpy(full_W).float().cuda(), torch.from_numpy(matching_M).float().cuda()"
      ],
      "execution_count": null,
      "outputs": []
    },
    {
      "cell_type": "code",
      "metadata": {
        "id": "He1tUpOKrNG1"
      },
      "source": [
        "# helper functions for training\n",
        "\n",
        "def add_channels(X):\n",
        "    # reshaping necessary when loading the training data\n",
        "    if len(X.shape) == 2:\n",
        "        return X.reshape(X.shape[0], 1, X.shape[1], 1)\n",
        "    elif len(X.shape) == 3:\n",
        "        return X.reshape(X.shape[0], 1, X.shape[1], X.shape[2])\n",
        "    else:\n",
        "        return \"dimenional error\"\n",
        " \n",
        "def exp_lr_scheduler(epoch,\n",
        "                     optimizer,\n",
        "                     strategy='normal',\n",
        "                     decay_eff=0.1,\n",
        "                     decayEpoch=[]):\n",
        "    \"\"\"Decay learning rate by a factor of lr_decay every lr_decay_epoch epochs\"\"\"\n",
        " \n",
        "    if strategy == 'normal':\n",
        "        if epoch in decayEpoch:\n",
        "            for param_group in optimizer.param_groups:\n",
        "                param_group['lr'] *= decay_eff\n",
        "            print('New learning rate is: ', param_group['lr'])\n",
        "    else:\n",
        "        print('wrong strategy')\n",
        "        raise ValueError('A very specific bad thing happened.')\n",
        " \n",
        "    return optimizer\n",
        " \n",
        "# get adjacency matrix specifying which modules should be in negative feedback with each other\n",
        "# for full negative feedback frac_zeros would be 0, but will play with sparsity settings\n",
        "# (this is part of initialization)\n",
        "def create_random_A(ns,frac_zeros):\n",
        "    num_networks = len(ns)\n",
        "    A = torch.cuda.FloatTensor(num_networks, num_networks).uniform_() > frac_zeros\n",
        "    A_tril = torch.tril(A)\n",
        "    A_tril.fill_diagonal_(0)\n",
        "    # note only lower triangular needs to be trained, as bidirectional version of connection determined by negative feedback stability cond\n",
        "    return A_tril\n",
        " \n",
        "def create_mask_given_A(A,ns):\n",
        "    '''\n",
        "    Creates 'hidden' mask for training, given an arbitrary adjacency matrix.\n",
        "    \n",
        "    ARGS:\n",
        "        - A: adjacency matrix\n",
        "        - ns: list of neural population sizes (e.g ns = [5,4,18,2]).\n",
        "    OUTS:\n",
        "        - A: mask\n",
        "    '''\n",
        "\n",
        "    N_nets = len(ns)\n",
        "    mask = []\n",
        "    \n",
        "    for i in range(N_nets):\n",
        "            mask_row_i = torch.cat([torch.ones((ns[i],ns[j])) if A[i,j] == 1 and i >= j else torch.zeros((ns[i],ns[j]))  for j in range(N_nets)],1)\n",
        "            mask.append(mask_row_i)    \n",
        "    \n",
        "    final = torch.cat(mask,0)\n",
        "    final.to(device)\n",
        "    return final"
      ],
      "execution_count": null,
      "outputs": []
    },
    {
      "cell_type": "code",
      "metadata": {
        "id": "fqtjWg23qP-e"
      },
      "source": [
        "# get one of the 3 sequential image classification datasets we use\n",
        "# (sequential MNIST, permuted sequential MNIST, and sequential CIFAR10 - accepted arguments are mnist, pmnist, and cifar10 respectively)\n",
        "# always uses the same batch size settings, 64 for train and 1024 for test\n",
        "def getData(name, train_bs=64, test_bs=1024):\n",
        "\n",
        "    if name == 'cifar10':\n",
        "        transform_train = transforms.Compose([\n",
        "        transforms.RandomCrop(32, padding=4),\n",
        "        transforms.RandomHorizontalFlip(),\n",
        "        transforms.ToTensor(),\n",
        "        transforms.Normalize((0.4914, 0.4822, 0.4465), (0.2023, 0.1994, 0.2010)),\n",
        "    ])\n",
        "\n",
        "        transform_test = transforms.Compose([\n",
        "        transforms.ToTensor(),\n",
        "        transforms.Normalize((0.4914, 0.4822, 0.4465), (0.2023, 0.1994, 0.2010)),\n",
        "    ])\n",
        "\n",
        "        train_loader = datasets.CIFAR10(root='./data', train=True, download=True, transform=transform_train)\n",
        "\n",
        "        offset = 2000\n",
        "        rng = np.random.RandomState(1234)\n",
        "        R = rng.permutation(len(train_loader))\n",
        "        lengths = (len(train_loader) - offset, offset)\n",
        "        train_loader, val_loader = [Subset(train_loader, R[offset - length:offset]) for offset, length in zip(_accumulate(lengths), lengths)]\n",
        "\n",
        "        # specifying the generator here is necessary for the code to work on colab\n",
        "        generator = torch.Generator(device=device)\n",
        "        generator.manual_seed(int(torch.empty((), dtype=torch.int64).random_().item()))\n",
        "        train_loader = torch.utils.data.DataLoader(train_loader, batch_size=train_bs, shuffle=True, generator=generator)\n",
        "        val_loader = torch.utils.data.DataLoader(val_loader, batch_size=test_bs, shuffle=False, generator=generator)\n",
        "        testset = datasets.CIFAR10(root='./data', train=False, download=False, transform=transform_test)\n",
        "        test_loader = torch.utils.data.DataLoader(testset, batch_size=test_bs, shuffle=False, generator=generator)\n",
        "\n",
        "    if name == 'mnist':\n",
        "        train_loader = datasets.MNIST('./data', train=True, download=True,\n",
        "                           transform=transforms.Compose([transforms.ToTensor(),]))\n",
        " \n",
        "        val_loader = datasets.MNIST('./data', train=True, download=True,\n",
        "                           transform=transforms.Compose([transforms.ToTensor(),]))\n",
        " \n",
        "        offset = 2000\n",
        "        rng = np.random.RandomState(1234)\n",
        "        R = rng.permutation(len(train_loader))\n",
        "        lengths = (len(train_loader) - offset, offset)\n",
        "        train_loader, val_loader = [Subset(train_loader, R[offset - length:offset]) for offset, length in zip(_accumulate(lengths), lengths)]\n",
        " \n",
        "        # specifying the generator here is necessary for the code to work on colab\n",
        "        generator = torch.Generator(device=device)\n",
        "        generator.manual_seed(int(torch.empty((), dtype=torch.int64).random_().item()))\n",
        "        train_loader = torch.utils.data.DataLoader(train_loader, batch_size=train_bs, shuffle=True, generator=generator)\n",
        "        val_loader = torch.utils.data.DataLoader(val_loader, batch_size=test_bs, shuffle=False, generator=generator)\n",
        "        test_loader = torch.utils.data.DataLoader(\n",
        "            datasets.MNIST('./data', train=False, download=False,\n",
        "            transform=transforms.Compose([transforms.ToTensor(),])),\n",
        "            batch_size=test_bs, shuffle=False, generator=generator)\n",
        " \n",
        "    if name == 'pmnist':\n",
        "        trainset = datasets.MNIST(root='./data', train=True, download=True,\n",
        "                            transform=transforms.Compose([transforms.ToTensor(),]))\n",
        "        testset = datasets.MNIST(root='./data', train=False, download=False,\n",
        "                            transform=transforms.Compose([ transforms.ToTensor(),]))\n",
        "        \n",
        "        x_train = trainset.train_data\n",
        "        y_train = trainset.targets\n",
        "        x_test = testset.test_data        \n",
        "        y_test = testset.targets\n",
        " \n",
        "        torch.manual_seed(12008)        \n",
        "        perm = torch.randperm(784)\n",
        "\n",
        "        x_train_permuted = x_train.reshape(x_train.shape[0],-1)\n",
        "        x_train_permuted = x_train_permuted[:, perm]\n",
        "        x_train_permuted = x_train_permuted.reshape(x_train.shape[0], 28, 28)\n",
        "        \n",
        "        x_test_permuted = x_test.reshape(x_test.shape[0],-1)\n",
        "        x_test_permuted = x_test_permuted[:, perm]\n",
        "        x_test_permuted = x_test_permuted.reshape(x_test.shape[0], 28, 28)        \n",
        " \n",
        "        x_train_permuted = add_channels(x_train_permuted)\n",
        "        x_test_permuted = add_channels(x_test_permuted)\n",
        "        \n",
        "        train_loader = torch.utils.data.TensorDataset(x_train_permuted.float(), y_train)\n",
        "        offset = 2000\n",
        "        rng = np.random.RandomState(1234)\n",
        "        R = rng.permutation(len(train_loader))\n",
        "        lengths = (len(train_loader) - offset, offset)\n",
        "        train_loader, val_loader = [Subset(train_loader, R[offset - length:offset]) for offset, length in zip(_accumulate(lengths), lengths)]\n",
        " \n",
        "        # specifying the generator here is necessary for the code to work on colab\n",
        "        generator = torch.Generator(device=device)\n",
        "        generator.manual_seed(int(torch.empty((), dtype=torch.int64).random_().item()))\n",
        "        train_loader = torch.utils.data.DataLoader(train_loader, batch_size=train_bs, shuffle=True, generator=generator)\n",
        "        val_loader = torch.utils.data.DataLoader(val_loader, batch_size=test_bs, shuffle=False, generator=generator) \n",
        "        test_loader = torch.utils.data.DataLoader(torch.utils.data.TensorDataset(x_test_permuted.float(), y_test),\n",
        "                                                batch_size=test_bs, shuffle=False, generator=generator)\n",
        " \n",
        "    return train_loader, val_loader, test_loader"
      ],
      "execution_count": null,
      "outputs": []
    },
    {
      "cell_type": "code",
      "metadata": {
        "colab": {
          "base_uri": "https://localhost:8080/",
          "height": 84,
          "referenced_widgets": [
            "402c49a338434eb999ca3772a1ed067c",
            "f368ffb9386c45bdb6636b2ac986ba3b",
            "9d1e0c3f6f6543d6a4e327d530e48591",
            "00c058bc9a994344ac995f9a50debf8d",
            "5dc8df21406a474daad292127edc3bf4",
            "e2fc778a7a354591a7a0db826102e3cb",
            "3d3facc7d3df4cc7bbb2297ab422d9d2",
            "a558f8b3561648088af81a230aa1b52b",
            "f62fca230d05461cb0d73bb23644b4fa",
            "7db30f5df5494e9bb0408a01ad86843f",
            "d255cba49938427f95d340a681e2d4ee"
          ]
        },
        "id": "OIQl_59qre9q",
        "outputId": "73c60111-464d-407a-c7f1-b1b2a5316586"
      },
      "source": [
        "# load specified dataset\n",
        "train_loader,val_loader,test_loader = getData(task)"
      ],
      "execution_count": null,
      "outputs": [
        {
          "name": "stdout",
          "output_type": "stream",
          "text": [
            "Downloading https://www.cs.toronto.edu/~kriz/cifar-10-python.tar.gz to ./data/cifar-10-python.tar.gz\n"
          ]
        },
        {
          "data": {
            "application/vnd.jupyter.widget-view+json": {
              "model_id": "402c49a338434eb999ca3772a1ed067c",
              "version_major": 2,
              "version_minor": 0
            },
            "text/plain": [
              "  0%|          | 0/170498071 [00:00<?, ?it/s]"
            ]
          },
          "metadata": {},
          "output_type": "display_data"
        },
        {
          "name": "stdout",
          "output_type": "stream",
          "text": [
            "Extracting ./data/cifar-10-python.tar.gz to ./data\n"
          ]
        }
      ]
    },
    {
      "cell_type": "code",
      "metadata": {
        "id": "MBXEGSFvxafh"
      },
      "source": [
        "# class definitions for the sparse combo networks\n",
        "\n",
        "class rnnAssemblyCell_Thm1(jit.ScriptModule):\n",
        "    '''\n",
        "    Pytorch module for training the following system:\n",
        "        tau*dx/dt = -x + W*phi(x) + L*x+ u(t) \n",
        "    where tau > 0, phi is a nonlinearity, W is block diagonal, L is some 'contracting' combination matrix and u is some input. \n",
        "       \n",
        "    ''' \n",
        "    \n",
        "    def __init__(self, input_size, hidden_sizes, output_size, alpha, A, density, pre_select_mult, post_select_mult):\n",
        "        super(rnnAssemblyCell_Thm1, self).__init__()\n",
        "        self.input_size = input_size\n",
        "        self.hidden_sizes = hidden_sizes\n",
        "        self.hidden_size = int(np.sum(hidden_sizes))\n",
        "        self.output_size = output_size\n",
        "        self.alpha = alpha \n",
        "        \n",
        "        # initialize linear input and output layers, to be trained, along with biases\n",
        "        self.weight_ih = nn.Parameter(torch.normal(0,1/np.sqrt(self.hidden_size),(self.hidden_size, self.input_size)))        \n",
        "        self.weight_ho = nn.Parameter(torch.normal(0,1/np.sqrt(self.hidden_size),(self.output_size, self.hidden_size)))\n",
        "        self.bias_oh = nn.Parameter(torch.normal(0,1/np.sqrt(self.hidden_size),(1,self.output_size)))\n",
        "        self.bias_hh = nn.Parameter(torch.normal(0,1/np.sqrt(self.hidden_size),(1,self.hidden_size)))               \n",
        " \n",
        "        # specify W and M here based on the random initialization mentioned     \n",
        "        self.W, self.M = generate_initial_W_M(self.hidden_sizes, density, pre_select_mult, post_select_mult)\n",
        "        self.M_inv = torch.inverse(self.M)\n",
        " \n",
        "        # L contains the connections between subsystems. this will be trained. \n",
        "        self.L_mask = create_mask_given_A(A,self.hidden_sizes).bool()\n",
        "        self.L_train = nn.Parameter(self.L_mask*torch.normal(0,1/np.sqrt(np.mean(self.hidden_sizes)),(np.sum(self.hidden_sizes), np.sum(self.hidden_sizes))))\n",
        "        \n",
        "    @jit.script_method\n",
        "    def forward(self, input, state):\n",
        "        # type: (Tensor, Tensor) -> Tuple[Tensor, Tensor]\n",
        "        L_masked = self.L_train*self.L_mask\n",
        "        \n",
        "        fx = -state + F.relu(state @ self.W.T + input @ (self.weight_ih.T) + self.bias_hh) + state @ (L_masked.T - (self.M @ L_masked) @ self.M_inv) \n",
        "              \n",
        "        hx =  state + self.alpha*fx\n",
        "        \n",
        "        hy = hx @ (self.weight_ho.T)\n",
        " \n",
        "        return hy, hx\n",
        " \n",
        "class rnnAssemblyLayer_Thm1(jit.ScriptModule):\n",
        "    def __init__(self, cell, *cell_args):\n",
        "        super(rnnAssemblyLayer_Thm1, self).__init__()\n",
        "        self.cell = cell(*cell_args)\n",
        " \n",
        "    @jit.script_method\n",
        "    def forward(self, input):\n",
        "        # type: (Tensor) -> Tuple[Tensor, Tensor]\n",
        "        state = 0*0.1*torch.randn(input.shape[0],self.cell.hidden_size, device='cuda')\n",
        "        \n",
        "        inputs = input.unbind(1)              \n",
        "        \n",
        "        outputs = torch.jit.annotate(List[Tensor], [])\n",
        "        for i in range(len(inputs)):\n",
        "            out, state = self.cell(inputs[i], state)\n",
        "            outputs += [out]\n",
        " \n",
        "        return torch.stack(outputs).permute(1,0,2), state"
      ],
      "execution_count": null,
      "outputs": []
    },
    {
      "cell_type": "code",
      "metadata": {
        "id": "G8TZyXiLr4-Q"
      },
      "source": [
        "# training function for sequential CIFAR\n",
        "# next cell contains the slightly different function for when training is on one of the MNIST tasks instead\n",
        "def train_CIFAR(rnn,optimizer,train_loader,test_loader,max_epoch,decay_eff,decay_epochs):    \n",
        "    '''\n",
        "    Main training loop.\n",
        "    '''\n",
        " \n",
        "    optim_params = list(rnn.parameters())\n",
        "    criterion = nn.CrossEntropyLoss()\n",
        "    test_accs = []\n",
        "    train_losses = []\n",
        "    epochs_list = [] # just grabbing numbers for the sake of dataframe\n",
        " \n",
        "    # Train for some epochs\n",
        "    for epoch in tqdm(range(max_epoch),total = max_epoch):\n",
        "        rnn.train()\n",
        "        loss_epoch = []\n",
        "        for i,(inp,target) in tqdm(enumerate(train_loader),total = len(train_loader)):    \n",
        "            optimizer.zero_grad()           \n",
        "            \n",
        "            # had to add these lines for colab GPU\n",
        "            inp = inp.cuda() \n",
        "            target = target.cuda()\n",
        "\n",
        "            # CIFAR-10 is 32x32, so 1024 pixels\n",
        "            # it is also color, so the original format would be (batch_size, 3, 32, 32)\n",
        "            # for the RNN input, want input size to be the last variable though\n",
        "            output,_ = rnn(inp.view(-1, 3, int(1024)).permute(0,2,1))\n",
        "            \n",
        "            loss = criterion(output[:,-1,:], target.to(device))\n",
        "            loss_epoch.append(loss.item())\n",
        "            loss.backward()        \n",
        "            optimizer.step()\n",
        " \n",
        "        # track loss over time, and have it reflect the mean loss over the batches so it is more reflective of training trends than last batch loss\n",
        "        mean_loss = np.mean(loss_epoch)\n",
        "        train_losses.append(mean_loss)\n",
        "\n",
        "        # calling the network with no training epoch 0, want each epoch number to reflect how many have been run so far, so add 1 here\n",
        "        print('Epoch {}, mean batch loss {}'.format(epoch+1, mean_loss))\n",
        "\n",
        "        # use specified scalar to learning rate after specified epochs\n",
        "        # (subtracting 1 from each input epoch to again account for epoch naming convention)\n",
        "        optimizer = exp_lr_scheduler(epoch, optimizer, decay_eff=decay_eff, decayEpoch=[x-1 for x in decay_epochs])\n",
        " \n",
        "        # testing is fast so no problem doing it every epoch \n",
        "        rnn.eval()\n",
        "        with torch.no_grad():\n",
        "            total = 0\n",
        "            correct = 0\n",
        "            for inp,target in test_loader:\n",
        "                inp = inp.cuda() # adding here too\n",
        "                target = target.cuda()\n",
        "                # reformat input in same way for CIFAR here\n",
        "                output,_ = rnn(inp.view(-1, 3, int(1024)).permute(0,2,1))\n",
        " \n",
        "                # the class with the highest energy is what we choose as prediction\n",
        "                _, predicted = torch.max(output[:,-1,:].data, 1)\n",
        "                total += target.size(0)\n",
        "                correct += (predicted == target).sum().item()\n",
        "            print('Accuracy of the network on the 10000 test images: %d %%' % (\n",
        "                  100 * correct / total))\n",
        "            test_accs.append((100.0 * float(correct) / float(total))) # for the actual list make sure we are getting exact test accuracy, so convert to floats!\n",
        "        epochs_list.append(epoch+1) # end of epoch so label +1\n",
        "\n",
        "        # save model for every epoch as storage space required is quite small, can have training disruptions with colab\n",
        "        model_path = os.path.join(output_root, model_name + \"-cifar10-\" + \"epoch\" + str(epoch+1) + \".pt\") # end of epoch so label +1\n",
        "        rnn.save(model_path) # would use torch.jit.load to reload in the future\n",
        "\n",
        "        # save stats so far, will overwrite every time as rows are added to dataframe\n",
        "        stats_path = os.path.join(output_root, model_name + \"-cifar10-stats.csv\")\n",
        "        cur_stats = pd.DataFrame()\n",
        "        cur_stats[\"epoch\"] = epochs_list\n",
        "        cur_stats[\"loss\"] = train_losses\n",
        "        cur_stats[\"test-acc\"] = test_accs\n",
        "        cur_stats.to_csv(stats_path, index=False)\n",
        "        \n",
        "    return rnn, optimizer, test_accs, train_losses"
      ],
      "execution_count": null,
      "outputs": []
    },
    {
      "cell_type": "code",
      "metadata": {
        "id": "egqmOxE4WX-y"
      },
      "source": [
        "# analogous training function for sequential or permuted MNIST\n",
        "def train_MNIST(rnn,optimizer,train_loader,test_loader,max_epoch,decay_eff,decay_epochs,task):    \n",
        "    '''\n",
        "    Main training loop.\n",
        "    '''\n",
        " \n",
        "    optim_params = list(rnn.parameters())\n",
        "    criterion = nn.CrossEntropyLoss()\n",
        "    test_accs = []\n",
        "    train_losses = []\n",
        "    epochs_list = [] # just grabbing numbers for the sake of dataframe\n",
        " \n",
        "    # Train for some epochs\n",
        "    for epoch in tqdm(range(max_epoch),total = max_epoch):\n",
        "        rnn.train()\n",
        "        loss_epoch = []\n",
        "        for i,(inp,target) in tqdm(enumerate(train_loader),total = len(train_loader)):    \n",
        "            optimizer.zero_grad()           \n",
        "            \n",
        "            # had to add these lines for colab GPU\n",
        "            inp = inp.cuda() \n",
        "            target = target.cuda()\n",
        "\n",
        "            output,_ = rnn(inp.view(-1, int(784)).unsqueeze(dim = 2))\n",
        "            \n",
        "            loss = criterion(output[:,-1,:], target.to(device))\n",
        "            loss_epoch.append(loss.item())\n",
        "            loss.backward()        \n",
        "            optimizer.step()\n",
        " \n",
        "        # track loss over time, and have it reflect the mean loss over the batches so it is more reflective of training trends than last batch loss\n",
        "        mean_loss = np.mean(loss_epoch)\n",
        "        train_losses.append(mean_loss)\n",
        "\n",
        "        # calling the network with no training epoch 0, want each epoch number to reflect how many have been run so far, so add 1 here\n",
        "        print('Epoch {}, mean batch loss {}'.format(epoch+1, mean_loss))\n",
        "\n",
        "        # use specified scalar to learning rate after specified epochs\n",
        "        # (subtracting 1 from each input epoch to again account for epoch naming convention)\n",
        "        optimizer = exp_lr_scheduler(epoch, optimizer, decay_eff=decay_eff, decayEpoch=[x-1 for x in decay_epochs])\n",
        " \n",
        "        # testing is fast so no problem doing it every epoch \n",
        "        rnn.eval()\n",
        "        with torch.no_grad():\n",
        "            total = 0\n",
        "            correct = 0\n",
        "            for inp,target in test_loader:\n",
        "                inp = inp.cuda() # adding here too\n",
        "                target = target.cuda()\n",
        "                output,_ = rnn(inp.view(-1, int(784)).unsqueeze(dim = 2))\n",
        " \n",
        "                # the class with the highest energy is what we choose as prediction\n",
        "                _, predicted = torch.max(output[:,-1,:].data, 1)\n",
        "                total += target.size(0)\n",
        "                correct += (predicted == target).sum().item()\n",
        "            print('Accuracy of the network on the 10000 test images: %d %%' % (\n",
        "                  100 * correct / total))\n",
        "            test_accs.append((100.0 * float(correct) / float(total))) # for the actual list make sure we are getting exact test accuracy, so convert to floats!\n",
        "        epochs_list.append(epoch+1) # end of epoch so label +1\n",
        "\n",
        "        # save model for every epoch as storage space required is quite small, can have training disruptions with colab\n",
        "        model_path = os.path.join(output_root, model_name + \"-\" + task + \"-\" + \"epoch\" + str(epoch+1) + \".pt\") # end of epoch so label +1\n",
        "        rnn.save(model_path) # would use torch.jit.load to reload in the future\n",
        "\n",
        "        # save stats so far, will overwrite every time as rows are added to dataframe\n",
        "        stats_path = os.path.join(output_root, model_name + \"-\" + task + \"-stats.csv\")\n",
        "        cur_stats = pd.DataFrame()\n",
        "        cur_stats[\"epoch\"] = epochs_list\n",
        "        cur_stats[\"loss\"] = train_losses\n",
        "        cur_stats[\"test-acc\"] = test_accs\n",
        "        cur_stats.to_csv(stats_path, index=False)\n",
        "        \n",
        "    return rnn, optimizer, test_accs, train_losses"
      ],
      "execution_count": null,
      "outputs": []
    },
    {
      "cell_type": "code",
      "metadata": {
        "colab": {
          "background_save": true,
          "base_uri": "https://localhost:8080/",
          "height": 81,
          "referenced_widgets": [
            "b9e4dd882ace4ec2932ff3f0b3b1a739",
            "49bd4b5b36a24c1498da27b083d6c0d8",
            "d81cf0995bc84d4a96fd3198c88f7347",
            "32ca536d74184c6a9d9a01796e2e7f1b",
            "890714272fe8445bbfa4327acbcaa7be",
            "f4998d78b3374bf18acf67f98c086804",
            "e8cdc30420924b1b9868426dfb14c443",
            "b81e7d2f7bcd4a048fe7469042a65069",
            "952ea1409dca4436a89583237e01bbea",
            "ede0507a78f4475db216e86426d0b3a4",
            "57716db308cd4afc96731a55d87a9494",
            "2bb37cd589dd4f3d95fe415a07139e42",
            "59dcbcf641f44a739657c6cb26e5bfb7",
            "61f0d66877e5411f811aeee4d75d5f2b",
            "432c39d3f1d343468e95a66c9ef2a97e",
            "ceebcc51420c45619542bc707a503198",
            "0a5e7bbb522140648468ecdd1d4eac6d",
            "55cc46ee24884b7db626c8e6c0775ede",
            "35d099abbbdd40c5b9c2582376a1bd5c",
            "e3e5fcb180284ad3a7dade9eb0dd5452",
            "18154daea3bf42a9be763731cf7e23d2",
            "425599e140654494bb0e7b33ea772c8b",
            "b06167c003d8493e9cb7117c3e56bc1d",
            "e1a4903dd4ae43d387e51ab3b34de9c4",
            "6b5ba21109474a1aa5b93cb5186f6735",
            "3901ff1e3b044a05b58f0d2fc78bc254",
            "c2cd1783b0d046a881fba6931f641df0",
            "97c1758103494c6694b8c0218da6b854",
            "12aae438d7e640ff979772c7364d7bd6",
            "39c4df32eafe4a729e1c798f30ca630d",
            "fdfa5f3566f24079a5d6babd4eae8624",
            "505c0ac10ac9421d8f0b74c2bd827799",
            "cc0b821fb2d04fbfb8f5a3e78be722f0",
            "d250596774ca43caa6ea89d3a853aed2",
            "c7a95dca917f48de9d5c30a8f9447422",
            "25f2411aace647068da3ea29e03af82f",
            "c924f3b1322f4777b875bba17ad81e0f",
            "d883e91779d1407a9c35de02d897367e",
            "d4a16c6dab1e4df6b5716c2c5755dfde",
            "6ae494486ca3400490de2228579636ba",
            "49f58d4be06b4fcb9ee9248548a14150",
            "1284690f797e437699821d4b6938d444",
            "1e630a93f0554966b7a345373b29ecf3",
            "c3e85b09661645ecad75f2d5d6db64a8",
            "aa0d5504206c4845ad2c9e40bb42f122",
            "d9701bc805314df2b27c49c93b1624d2",
            "0130f3e2d9644551ad0ecb238a93e000",
            "0a68b1aa639b495cb4d7c5a76eae0b81",
            "79d3be2ddd9c4295b74ce2f89cddd9ec",
            "cd3cb341a7694de8857a36b6fd6e09a4",
            "64c874cc34b240b6a974dbaca2ca7ac6",
            "1d66e95c048b4e6f87ee40cd194e5b33",
            "02a71b2ef6d644ee8b14dc06eacc4161",
            "ddb535a365c44a31bd1e76490b39fc94",
            "d28460cf01e441a68bc1a2c934df475d",
            "da3d6b7e38b3446e82e0ac0fdcc05632",
            "85824e2025074935b5afbffa27cea102",
            "df56ad40f3f54c27be086b5cf7bf0b3f",
            "cbcb0a6eaef14b9da4f1a2c098abee54",
            "b5df5fb5c52840c3b7f104a44bf4c819",
            "9889e1b285db4bd8a6906ade6c03a904",
            "b3c87f3f51ab48ecbb55982407d313d6",
            "3cd2ddacc280495eb57eaa54a063bc82",
            "beb55b38b21c4a61b4f4901e8d859c18",
            "10277e25ce1740c799c1cec51f36a2af",
            "4800fa491d4f469ebbf545c726c14074",
            "2e9f6e2e95d04de38652e32a7b520876",
            "6b7b94bb645d4cb2b66b33dc15849dff",
            "4d60b72199b0406b847a8dce7df7b3f9",
            "6227d1a68d994cfb987e1478f0e8dfbb",
            "0c6c1ef901aa4bd1b5ca7151a2c17cc3",
            "dca899adb6b84bd0b6ff96c4e26c9d27",
            "3e9d5f741ae049c2aaad3218fa126d63",
            "dc2144c0f4034347abc9cd763128d4e5",
            "a61855409b7345aca09e643a030ca956",
            "eec37cf329284a31b5556b4e21275895",
            "8ec31f22cfc84832ac18506a1f5e7252",
            "708c0d779f79454dbb454ca92a6a2dda",
            "86ffe03e294b4f11b04707383c1f0494",
            "193bb611ec5f45e3a6c26bd00697cdaa",
            "5e3d8dfc4975481b865b65a8b2ec2768",
            "5137a3e169264d498b92446457b5d9f8",
            "845607734e3841fe9a10ec689685e387",
            "43ca85afcfeb47cb98347b5276fd1789",
            "9725985f78fe41d1b0a1f0e4b9b62c23",
            "1273c8c301664432b3fe5a6a65c65a5a",
            "2979a53615d84d0e965fc6e83246c6a0",
            "c82a9192c2804b699d8f7527ea163563",
            "ae200176db884351a15cb4ee70d18fc8",
            "f00ddd590b23442aa57e0a6be2eb315e",
            "29293fcc7b0b4c15b4947133c15e61d1",
            "dffa3dcc1a0c46a890a0ca5fca1c3502",
            "0051f161de20497394be45bbdbce8a0b",
            "a9e7c5db79ce4c02a69b897e423e77d2",
            "3706ae9668df4c66a0af325c52e3d0f5",
            "5f3cf2144c7f4010b4ba3098231a8cb2",
            "d616bb26ab0b467092d4ba8b1e8b88b6",
            "ae8e3f5ff6ab4374acb84ae5df1ede53",
            "aea523950b98441c84ac03e1afc0785a",
            "5b03686515b54ad483d79c9b99a62cb5",
            "e8c213e8a24d4b72ae74ce7ca5103447",
            "15f1892ada114646999e391e6752fd09",
            "1ab93ef9236647c596b267ba84bb55ad",
            "992d825257b6489c9155e8c05aad6777",
            "8b7101c877824ca491191876c76f8ab3",
            "2e523192b3374fd29ddd78ee040e588f",
            "af7c2c315b9543e1a58912efdb8ff394",
            "ee0c4412224c4df28ef5a006a2a53976",
            "a24315d016894f3a92565e6c9cbefe92",
            "99d70dc697fa49de8cb4fd8c122a1a93",
            "919798dd946a46be9beb1eed7f47e202",
            "68836c075c504439807b92d1ecf2dd51",
            "89bb5f8fdab44c0d8caac2ab9081f761",
            "e3f5dcdb053d4d0994cb057e8c65f6bf",
            "75484b068d984cc78c57c2806357171a",
            "d71393b9166a41658d8101b7f6a55826",
            "bdb7c87383624ceb9373dff9b44c385f",
            "32cae00c7bfe45a1813ef7be39878bbd",
            "f5bae7d520384acc9c255ed3af5bcef3",
            "a669592194fe454eb63a25452fc0b6ef",
            "f6a7c6e4739a4da1b6782a062c290b2d",
            "d256c8857f33409883fa4a9f5bf474f9",
            "fb3073fcfbe244baabe2088a90f7d78a",
            "cb6c8c41c16f40cc8f166e3c43cb4539",
            "922f1781aa9149b4a311434bd403e72a",
            "bc6b154903844d90b3386429f8aa0705",
            "6b36f7de3a0a46578d04d60f692174f7",
            "ec379a580e1648a58d143fe928e0535f",
            "6e4d3ce60e194326a652ff3148367c6b",
            "b82c192945b248b2bbfaf90d9f40e980",
            "155ab783deac4a1e90c0da58e7b6fde6",
            "f189cd2ef3f0421898eef01738be31be",
            "72892002a1c6469fa8f4b55198bc3d33",
            "8135292243ee4c5e96d4c422802227f0",
            "9a6cc78c5b79442ebaaeb06411b18b1b",
            "b4d87b129de84aaea43a4ad1b4f1b557",
            "599a3dd436ba4a7b907af9788d163563",
            "81ea4afdebbe4f5498efba77bcdd7c90",
            "5c6fcdea7850497a98b8bfa9283f8c4a",
            "02fefd38696049b2832a67d522446072",
            "964fdf60f3224aa4b18832de0d4c4427",
            "242e88fe14374203a49c61996d820070",
            "6d7da04c4819415f902d36cc6f5c4b05",
            "0059ab1bc11f40259563a8df8acfd888",
            "3e018fef2b1b4339994d25055595bbee",
            "bc2d66d7d8124b06a370d1aa14fe954b",
            "2b8509b722d540a1a4c65af0a15d0a4e",
            "3dd2542e9e7d4e998a798784fe08cd7c",
            "fcb0fbf221d24ccba11d0f116a6dc06e",
            "bf27887345584ff0ae9f4736c1c2d0d6",
            "5a79e57ffacc4da49fbf4953bad6ddfe",
            "c947ecc3ca2746758b1552161f9bb54e",
            "1a53bd3a385c489d8b4c295172c045ec",
            "545deb91478f43dfbe90921b202543b1",
            "cf60cd74f0094daaa27a3c5fb16065b7",
            "044bd8e430a5472486ca7f4381d8ed80",
            "225ff0df98704850893af57fa7c83463",
            "c7f9c3a2059c45c98f47781656fcc1ba",
            "0ac497a16c4a4a7f899426a1e5a5c90a",
            "f28fda39e3cf48189aab21214db866f6",
            "d225dff9d0b84fb39967d02cb79516b2",
            "4616537fcff541afa7a1cbf1322930aa",
            "1f5cd330748f40759920eb4c40a9e81f",
            "df9156cb766d40088f157cac33e07628",
            "ada653b42a4440aaa251b2ca9be7b94e",
            "11b70563b578420aa2a9d86f4e0cd902",
            "155f4a1b859e42c4866906f26231b737",
            "35b22273b7ab4061838a4b6cd4960926",
            "cab931a849b9477d8e29d4935174a5d3",
            "0f9f83f916a644d09e93dd1f9661a91c",
            "9cf3f70504dd4b2c86fa172439eace73",
            "59dd646b5eb449f4b41eb24413d32cd7",
            "9961e54b30814163a6701d5f8a1b4a2b",
            "8a3dadc283f2436284f163d99bbf4648",
            "c8a49ca7eadc440f8d9769d149526780",
            "e564427d6f6d4e7ab8a0a2219d93d677",
            "ba4c993cd1a34e188b16938daa4955ec",
            "a0f206d9b533486386b2dde67bcd0e60",
            "92d3de07225244f388ff8e9e162b8cd5",
            "e56a062e6d2c483face41757bfd3abee",
            "08ac758af68148c78d8636cef8182566",
            "880cefc702d54a0e86949b555e227f86",
            "dff2ec51183743b3af24e0aa42246967",
            "3ad386f9c96b4800822bd9b406a6c60a",
            "d159cc95c79b4a80be6e7848ddb71967",
            "16586a44158549b69c21f7bf2e18dffb",
            "d8ccf535714d4d32a76351a22d5ab8e2",
            "40272694594f43e7a0a4d5c0801b7b0a",
            "b6f1d0e35e96415ea7b44df21f7a36e4",
            "12169e986ad6413cb04e5c1078006bc8",
            "350558ae0f1c4f0086e5f715da9bde17",
            "541e4d217c074344bff144d086489c7f",
            "a8d96c3c8ff64d1696a5df59c13d56af",
            "0b415c9b667045799cc6748ceff53676",
            "e44a1c8070ab45d2be544c7fa4ba3634",
            "47fe5ab99dc04ddab32f2de3ff59ae99",
            "20f4b1aa602944e6ba06d92458216353",
            "b120e16d00504b09bc2b78e4e7814931",
            "2c6b6c1a43424c8c96d31c9d8c870f17",
            "51ef66bd551241bb833b1f826d3d702b",
            "f11c98d0f7724d82bbb46959de1858e2",
            "767ce346520e4cfabd2d419aaa940d67",
            "b59acedd70d3411ead33159ce53ba490",
            "03eb88638a804b87afa5277b364be944",
            "8ee3cf5ac2f147c6bd5857c7427249b3",
            "081bb02f51634dd0a0e1ac75360092ff",
            "43ecc82624334554b7652144f022b9dd",
            "6becc7e371564749a347ffa9552449c9",
            "ec8b014168b24de1a5fdb48b137bb4f8",
            "2437c6b11448454f8abb4360775561b7",
            "cc829fec1969431991ff2beba109ce4f",
            "5a0571bb5cae4828b451ff8b492c60ae",
            "1935b8408efe41298e357714c3c565f8",
            "769be1065a1044c6b4f173735ad04b24",
            "ef677fcca20243a2abc4d8f3cb6c3efe",
            "ebde863306e24c2eb012c71c3e27347f",
            "d61d126e0be144de80dfb58c430ad55c",
            "2eec1613fa2043379a227108db1b61f4",
            "06726900127247448c4802316504b604",
            "3a6569293e8a4ec1be54607cdb655576",
            "4bd7d5db3d8a4f238bda98bc6c4874bb"
          ]
        },
        "id": "o5hzUm9kr9vN",
        "outputId": "781d1a38-0dba-4ce5-ae08-85f1881363ba"
      },
      "source": [
        "'''\n",
        "Define network and use main training loop\n",
        "'''\n",
        " \n",
        "# setup the static RNN settings now\n",
        "dt_rnn = .03\n",
        "tau_rnn = 1\n",
        "alpha = dt_rnn/tau_rnn\n",
        "output_size = 10 # always 10 possible labels\n",
        "\n",
        "# other settings that vary only based on above settings\n",
        "if task == \"cifar10\":\n",
        "    input_size = 3 # rgb\n",
        "else:\n",
        "    input_size = 1 # black and white\n",
        "A = create_random_A(ns, A_sparsity)\n",
        "\n",
        "# instantiate a network and optimizer\n",
        "rnn = rnnAssemblyLayer_Thm1(rnnAssemblyCell_Thm1,input_size,ns,output_size,alpha,A,rnn_density,pre_scalar,post_scalar)\n",
        "rnn.to(device)\n",
        " \n",
        "# setup the optimizer\n",
        "optim_params = list(rnn.parameters()) \n",
        "optimizer = torch.optim.Adam(optim_params, lr=lr, weight_decay=weight_decay)\n",
        " \n",
        "# save initialization of network\n",
        "model_path = os.path.join(output_root, model_name + \"-\" + task + \"-\" + \"epoch0.pt\")\n",
        "rnn.save(model_path)\n",
        " \n",
        "# train the initialized network with the loaded dataset, using appropriate training function\n",
        "if task == \"cifar10\":\n",
        "    rnn,optimizer,test_accs,train_losses = train_CIFAR(rnn,optimizer,train_loader,test_loader,num_epochs,lr_scalar,lr_scale_epochs)\n",
        "else:\n",
        "    rnn,optimizer,test_accs,train_losses = train_MNIST(rnn,optimizer,train_loader,test_loader,num_epochs,lr_scalar,lr_scale_epochs,task)\n",
        "# next two cells will then plot the found accuracies and losses"
      ],
      "execution_count": null,
      "outputs": [
        {
          "data": {
            "application/vnd.jupyter.widget-view+json": {
              "model_id": "b9e4dd882ace4ec2932ff3f0b3b1a739",
              "version_major": 2,
              "version_minor": 0
            },
            "text/plain": [
              "  0%|          | 0/200 [00:00<?, ?it/s]"
            ]
          },
          "metadata": {},
          "output_type": "display_data"
        },
        {
          "data": {
            "application/vnd.jupyter.widget-view+json": {
              "model_id": "2bb37cd589dd4f3d95fe415a07139e42",
              "version_major": 2,
              "version_minor": 0
            },
            "text/plain": [
              "  0%|          | 0/750 [00:00<?, ?it/s]"
            ]
          },
          "metadata": {},
          "output_type": "display_data"
        },
        {
          "name": "stdout",
          "output_type": "stream",
          "text": [
            "Epoch 1, mean batch loss 2.1426366550127667\n",
            "Accuracy of the network on the 10000 test images: 30 %\n"
          ]
        },
        {
          "data": {
            "application/vnd.jupyter.widget-view+json": {
              "model_id": "b06167c003d8493e9cb7117c3e56bc1d",
              "version_major": 2,
              "version_minor": 0
            },
            "text/plain": [
              "  0%|          | 0/750 [00:00<?, ?it/s]"
            ]
          },
          "metadata": {},
          "output_type": "display_data"
        },
        {
          "name": "stdout",
          "output_type": "stream",
          "text": [
            "Epoch 2, mean batch loss 1.9148223392168682\n",
            "Accuracy of the network on the 10000 test images: 32 %\n"
          ]
        },
        {
          "data": {
            "application/vnd.jupyter.widget-view+json": {
              "model_id": "e1a4903dd4ae43d387e51ab3b34de9c4",
              "version_major": 2,
              "version_minor": 0
            },
            "text/plain": [
              "  0%|          | 0/750 [00:00<?, ?it/s]"
            ]
          },
          "metadata": {},
          "output_type": "display_data"
        },
        {
          "name": "stdout",
          "output_type": "stream",
          "text": [
            "Epoch 3, mean batch loss 1.83909930117925\n",
            "Accuracy of the network on the 10000 test images: 36 %\n"
          ]
        },
        {
          "data": {
            "application/vnd.jupyter.widget-view+json": {
              "model_id": "6b5ba21109474a1aa5b93cb5186f6735",
              "version_major": 2,
              "version_minor": 0
            },
            "text/plain": [
              "  0%|          | 0/750 [00:00<?, ?it/s]"
            ]
          },
          "metadata": {},
          "output_type": "display_data"
        },
        {
          "name": "stdout",
          "output_type": "stream",
          "text": [
            "Epoch 4, mean batch loss 1.7780127962430319\n",
            "Accuracy of the network on the 10000 test images: 37 %\n"
          ]
        },
        {
          "data": {
            "application/vnd.jupyter.widget-view+json": {
              "model_id": "3901ff1e3b044a05b58f0d2fc78bc254",
              "version_major": 2,
              "version_minor": 0
            },
            "text/plain": [
              "  0%|          | 0/750 [00:00<?, ?it/s]"
            ]
          },
          "metadata": {},
          "output_type": "display_data"
        },
        {
          "name": "stdout",
          "output_type": "stream",
          "text": [
            "Epoch 5, mean batch loss 1.7346377169291178\n",
            "Accuracy of the network on the 10000 test images: 33 %\n"
          ]
        },
        {
          "data": {
            "application/vnd.jupyter.widget-view+json": {
              "model_id": "c2cd1783b0d046a881fba6931f641df0",
              "version_major": 2,
              "version_minor": 0
            },
            "text/plain": [
              "  0%|          | 0/750 [00:00<?, ?it/s]"
            ]
          },
          "metadata": {},
          "output_type": "display_data"
        },
        {
          "name": "stdout",
          "output_type": "stream",
          "text": [
            "Epoch 6, mean batch loss 1.7181405504544576\n",
            "Accuracy of the network on the 10000 test images: 40 %\n"
          ]
        },
        {
          "data": {
            "application/vnd.jupyter.widget-view+json": {
              "model_id": "97c1758103494c6694b8c0218da6b854",
              "version_major": 2,
              "version_minor": 0
            },
            "text/plain": [
              "  0%|          | 0/750 [00:00<?, ?it/s]"
            ]
          },
          "metadata": {},
          "output_type": "display_data"
        },
        {
          "name": "stdout",
          "output_type": "stream",
          "text": [
            "Epoch 7, mean batch loss 1.693642067114512\n",
            "Accuracy of the network on the 10000 test images: 39 %\n"
          ]
        },
        {
          "data": {
            "application/vnd.jupyter.widget-view+json": {
              "model_id": "12aae438d7e640ff979772c7364d7bd6",
              "version_major": 2,
              "version_minor": 0
            },
            "text/plain": [
              "  0%|          | 0/750 [00:00<?, ?it/s]"
            ]
          },
          "metadata": {},
          "output_type": "display_data"
        },
        {
          "name": "stdout",
          "output_type": "stream",
          "text": [
            "Epoch 8, mean batch loss 1.6730588528315227\n",
            "Accuracy of the network on the 10000 test images: 40 %\n"
          ]
        },
        {
          "data": {
            "application/vnd.jupyter.widget-view+json": {
              "model_id": "39c4df32eafe4a729e1c798f30ca630d",
              "version_major": 2,
              "version_minor": 0
            },
            "text/plain": [
              "  0%|          | 0/750 [00:00<?, ?it/s]"
            ]
          },
          "metadata": {},
          "output_type": "display_data"
        },
        {
          "name": "stdout",
          "output_type": "stream",
          "text": [
            "Epoch 9, mean batch loss 1.6571255877812703\n",
            "Accuracy of the network on the 10000 test images: 40 %\n"
          ]
        },
        {
          "data": {
            "application/vnd.jupyter.widget-view+json": {
              "model_id": "fdfa5f3566f24079a5d6babd4eae8624",
              "version_major": 2,
              "version_minor": 0
            },
            "text/plain": [
              "  0%|          | 0/750 [00:00<?, ?it/s]"
            ]
          },
          "metadata": {},
          "output_type": "display_data"
        },
        {
          "name": "stdout",
          "output_type": "stream",
          "text": [
            "Epoch 10, mean batch loss 1.6448486051559448\n",
            "Accuracy of the network on the 10000 test images: 42 %\n"
          ]
        },
        {
          "data": {
            "application/vnd.jupyter.widget-view+json": {
              "model_id": "505c0ac10ac9421d8f0b74c2bd827799",
              "version_major": 2,
              "version_minor": 0
            },
            "text/plain": [
              "  0%|          | 0/750 [00:00<?, ?it/s]"
            ]
          },
          "metadata": {},
          "output_type": "display_data"
        },
        {
          "name": "stdout",
          "output_type": "stream",
          "text": [
            "Epoch 11, mean batch loss 1.6262923851013185\n",
            "Accuracy of the network on the 10000 test images: 43 %\n"
          ]
        },
        {
          "data": {
            "application/vnd.jupyter.widget-view+json": {
              "model_id": "cc0b821fb2d04fbfb8f5a3e78be722f0",
              "version_major": 2,
              "version_minor": 0
            },
            "text/plain": [
              "  0%|          | 0/750 [00:00<?, ?it/s]"
            ]
          },
          "metadata": {},
          "output_type": "display_data"
        },
        {
          "name": "stdout",
          "output_type": "stream",
          "text": [
            "Epoch 12, mean batch loss 1.635425224939982\n",
            "Accuracy of the network on the 10000 test images: 41 %\n"
          ]
        },
        {
          "data": {
            "application/vnd.jupyter.widget-view+json": {
              "model_id": "d250596774ca43caa6ea89d3a853aed2",
              "version_major": 2,
              "version_minor": 0
            },
            "text/plain": [
              "  0%|          | 0/750 [00:00<?, ?it/s]"
            ]
          },
          "metadata": {},
          "output_type": "display_data"
        },
        {
          "name": "stdout",
          "output_type": "stream",
          "text": [
            "Epoch 13, mean batch loss 1.5984941933949788\n",
            "Accuracy of the network on the 10000 test images: 43 %\n"
          ]
        },
        {
          "data": {
            "application/vnd.jupyter.widget-view+json": {
              "model_id": "c7a95dca917f48de9d5c30a8f9447422",
              "version_major": 2,
              "version_minor": 0
            },
            "text/plain": [
              "  0%|          | 0/750 [00:00<?, ?it/s]"
            ]
          },
          "metadata": {},
          "output_type": "display_data"
        },
        {
          "name": "stdout",
          "output_type": "stream",
          "text": [
            "Epoch 14, mean batch loss 1.591935009320577\n",
            "Accuracy of the network on the 10000 test images: 43 %\n"
          ]
        },
        {
          "data": {
            "application/vnd.jupyter.widget-view+json": {
              "model_id": "25f2411aace647068da3ea29e03af82f",
              "version_major": 2,
              "version_minor": 0
            },
            "text/plain": [
              "  0%|          | 0/750 [00:00<?, ?it/s]"
            ]
          },
          "metadata": {},
          "output_type": "display_data"
        },
        {
          "name": "stdout",
          "output_type": "stream",
          "text": [
            "Epoch 15, mean batch loss 1.5746763536135355\n",
            "Accuracy of the network on the 10000 test images: 42 %\n"
          ]
        },
        {
          "data": {
            "application/vnd.jupyter.widget-view+json": {
              "model_id": "c924f3b1322f4777b875bba17ad81e0f",
              "version_major": 2,
              "version_minor": 0
            },
            "text/plain": [
              "  0%|          | 0/750 [00:00<?, ?it/s]"
            ]
          },
          "metadata": {},
          "output_type": "display_data"
        },
        {
          "name": "stdout",
          "output_type": "stream",
          "text": [
            "Epoch 16, mean batch loss 1.567357095082601\n",
            "Accuracy of the network on the 10000 test images: 42 %\n"
          ]
        },
        {
          "data": {
            "application/vnd.jupyter.widget-view+json": {
              "model_id": "d883e91779d1407a9c35de02d897367e",
              "version_major": 2,
              "version_minor": 0
            },
            "text/plain": [
              "  0%|          | 0/750 [00:00<?, ?it/s]"
            ]
          },
          "metadata": {},
          "output_type": "display_data"
        },
        {
          "name": "stdout",
          "output_type": "stream",
          "text": [
            "Epoch 17, mean batch loss 1.5480584689776102\n",
            "Accuracy of the network on the 10000 test images: 43 %\n"
          ]
        },
        {
          "data": {
            "application/vnd.jupyter.widget-view+json": {
              "model_id": "d4a16c6dab1e4df6b5716c2c5755dfde",
              "version_major": 2,
              "version_minor": 0
            },
            "text/plain": [
              "  0%|          | 0/750 [00:00<?, ?it/s]"
            ]
          },
          "metadata": {},
          "output_type": "display_data"
        },
        {
          "name": "stdout",
          "output_type": "stream",
          "text": [
            "Epoch 18, mean batch loss 1.538959202448527\n",
            "Accuracy of the network on the 10000 test images: 43 %\n"
          ]
        },
        {
          "data": {
            "application/vnd.jupyter.widget-view+json": {
              "model_id": "6ae494486ca3400490de2228579636ba",
              "version_major": 2,
              "version_minor": 0
            },
            "text/plain": [
              "  0%|          | 0/750 [00:00<?, ?it/s]"
            ]
          },
          "metadata": {},
          "output_type": "display_data"
        },
        {
          "name": "stdout",
          "output_type": "stream",
          "text": [
            "Epoch 19, mean batch loss 1.5201782932281493\n",
            "Accuracy of the network on the 10000 test images: 45 %\n"
          ]
        },
        {
          "data": {
            "application/vnd.jupyter.widget-view+json": {
              "model_id": "49f58d4be06b4fcb9ee9248548a14150",
              "version_major": 2,
              "version_minor": 0
            },
            "text/plain": [
              "  0%|          | 0/750 [00:00<?, ?it/s]"
            ]
          },
          "metadata": {},
          "output_type": "display_data"
        },
        {
          "name": "stdout",
          "output_type": "stream",
          "text": [
            "Epoch 20, mean batch loss 1.5104143611590068\n",
            "Accuracy of the network on the 10000 test images: 43 %\n"
          ]
        },
        {
          "data": {
            "application/vnd.jupyter.widget-view+json": {
              "model_id": "1284690f797e437699821d4b6938d444",
              "version_major": 2,
              "version_minor": 0
            },
            "text/plain": [
              "  0%|          | 0/750 [00:00<?, ?it/s]"
            ]
          },
          "metadata": {},
          "output_type": "display_data"
        },
        {
          "name": "stdout",
          "output_type": "stream",
          "text": [
            "Epoch 21, mean batch loss 1.5027655863761902\n",
            "Accuracy of the network on the 10000 test images: 45 %\n"
          ]
        },
        {
          "data": {
            "application/vnd.jupyter.widget-view+json": {
              "model_id": "1e630a93f0554966b7a345373b29ecf3",
              "version_major": 2,
              "version_minor": 0
            },
            "text/plain": [
              "  0%|          | 0/750 [00:00<?, ?it/s]"
            ]
          },
          "metadata": {},
          "output_type": "display_data"
        },
        {
          "name": "stdout",
          "output_type": "stream",
          "text": [
            "Epoch 22, mean batch loss 1.484231142203013\n",
            "Accuracy of the network on the 10000 test images: 47 %\n"
          ]
        },
        {
          "data": {
            "application/vnd.jupyter.widget-view+json": {
              "model_id": "c3e85b09661645ecad75f2d5d6db64a8",
              "version_major": 2,
              "version_minor": 0
            },
            "text/plain": [
              "  0%|          | 0/750 [00:00<?, ?it/s]"
            ]
          },
          "metadata": {},
          "output_type": "display_data"
        },
        {
          "name": "stdout",
          "output_type": "stream",
          "text": [
            "Epoch 23, mean batch loss 1.4839882640838622\n",
            "Accuracy of the network on the 10000 test images: 46 %\n"
          ]
        },
        {
          "data": {
            "application/vnd.jupyter.widget-view+json": {
              "model_id": "aa0d5504206c4845ad2c9e40bb42f122",
              "version_major": 2,
              "version_minor": 0
            },
            "text/plain": [
              "  0%|          | 0/750 [00:00<?, ?it/s]"
            ]
          },
          "metadata": {},
          "output_type": "display_data"
        },
        {
          "name": "stdout",
          "output_type": "stream",
          "text": [
            "Epoch 24, mean batch loss 1.4589130880037944\n",
            "Accuracy of the network on the 10000 test images: 48 %\n"
          ]
        },
        {
          "data": {
            "application/vnd.jupyter.widget-view+json": {
              "model_id": "d9701bc805314df2b27c49c93b1624d2",
              "version_major": 2,
              "version_minor": 0
            },
            "text/plain": [
              "  0%|          | 0/750 [00:00<?, ?it/s]"
            ]
          },
          "metadata": {},
          "output_type": "display_data"
        },
        {
          "name": "stdout",
          "output_type": "stream",
          "text": [
            "Epoch 25, mean batch loss 1.4532601413726807\n",
            "Accuracy of the network on the 10000 test images: 45 %\n"
          ]
        },
        {
          "data": {
            "application/vnd.jupyter.widget-view+json": {
              "model_id": "0130f3e2d9644551ad0ecb238a93e000",
              "version_major": 2,
              "version_minor": 0
            },
            "text/plain": [
              "  0%|          | 0/750 [00:00<?, ?it/s]"
            ]
          },
          "metadata": {},
          "output_type": "display_data"
        },
        {
          "name": "stdout",
          "output_type": "stream",
          "text": [
            "Epoch 26, mean batch loss 1.4509465905825296\n",
            "Accuracy of the network on the 10000 test images: 44 %\n"
          ]
        },
        {
          "data": {
            "application/vnd.jupyter.widget-view+json": {
              "model_id": "0a68b1aa639b495cb4d7c5a76eae0b81",
              "version_major": 2,
              "version_minor": 0
            },
            "text/plain": [
              "  0%|          | 0/750 [00:00<?, ?it/s]"
            ]
          },
          "metadata": {},
          "output_type": "display_data"
        },
        {
          "name": "stdout",
          "output_type": "stream",
          "text": [
            "Epoch 27, mean batch loss 1.4484399048487346\n",
            "Accuracy of the network on the 10000 test images: 48 %\n"
          ]
        },
        {
          "data": {
            "application/vnd.jupyter.widget-view+json": {
              "model_id": "79d3be2ddd9c4295b74ce2f89cddd9ec",
              "version_major": 2,
              "version_minor": 0
            },
            "text/plain": [
              "  0%|          | 0/750 [00:00<?, ?it/s]"
            ]
          },
          "metadata": {},
          "output_type": "display_data"
        },
        {
          "name": "stdout",
          "output_type": "stream",
          "text": [
            "Epoch 28, mean batch loss 1.4343061185677846\n",
            "Accuracy of the network on the 10000 test images: 48 %\n"
          ]
        },
        {
          "data": {
            "application/vnd.jupyter.widget-view+json": {
              "model_id": "cd3cb341a7694de8857a36b6fd6e09a4",
              "version_major": 2,
              "version_minor": 0
            },
            "text/plain": [
              "  0%|          | 0/750 [00:00<?, ?it/s]"
            ]
          },
          "metadata": {},
          "output_type": "display_data"
        },
        {
          "name": "stdout",
          "output_type": "stream",
          "text": [
            "Epoch 29, mean batch loss 1.4288637010256449\n",
            "Accuracy of the network on the 10000 test images: 48 %\n"
          ]
        },
        {
          "data": {
            "application/vnd.jupyter.widget-view+json": {
              "model_id": "64c874cc34b240b6a974dbaca2ca7ac6",
              "version_major": 2,
              "version_minor": 0
            },
            "text/plain": [
              "  0%|          | 0/750 [00:00<?, ?it/s]"
            ]
          },
          "metadata": {},
          "output_type": "display_data"
        },
        {
          "name": "stdout",
          "output_type": "stream",
          "text": [
            "Epoch 30, mean batch loss 1.425515325387319\n",
            "Accuracy of the network on the 10000 test images: 48 %\n"
          ]
        },
        {
          "data": {
            "application/vnd.jupyter.widget-view+json": {
              "model_id": "1d66e95c048b4e6f87ee40cd194e5b33",
              "version_major": 2,
              "version_minor": 0
            },
            "text/plain": [
              "  0%|          | 0/750 [00:00<?, ?it/s]"
            ]
          },
          "metadata": {},
          "output_type": "display_data"
        },
        {
          "name": "stdout",
          "output_type": "stream",
          "text": [
            "Epoch 31, mean batch loss 1.4153730076154074\n",
            "Accuracy of the network on the 10000 test images: 49 %\n"
          ]
        },
        {
          "data": {
            "application/vnd.jupyter.widget-view+json": {
              "model_id": "02a71b2ef6d644ee8b14dc06eacc4161",
              "version_major": 2,
              "version_minor": 0
            },
            "text/plain": [
              "  0%|          | 0/750 [00:00<?, ?it/s]"
            ]
          },
          "metadata": {},
          "output_type": "display_data"
        },
        {
          "name": "stdout",
          "output_type": "stream",
          "text": [
            "Epoch 32, mean batch loss 1.4127960643768311\n",
            "Accuracy of the network on the 10000 test images: 49 %\n"
          ]
        },
        {
          "data": {
            "application/vnd.jupyter.widget-view+json": {
              "model_id": "ddb535a365c44a31bd1e76490b39fc94",
              "version_major": 2,
              "version_minor": 0
            },
            "text/plain": [
              "  0%|          | 0/750 [00:00<?, ?it/s]"
            ]
          },
          "metadata": {},
          "output_type": "display_data"
        },
        {
          "name": "stdout",
          "output_type": "stream",
          "text": [
            "Epoch 33, mean batch loss 1.3960639282067617\n",
            "Accuracy of the network on the 10000 test images: 50 %\n"
          ]
        },
        {
          "data": {
            "application/vnd.jupyter.widget-view+json": {
              "model_id": "d28460cf01e441a68bc1a2c934df475d",
              "version_major": 2,
              "version_minor": 0
            },
            "text/plain": [
              "  0%|          | 0/750 [00:00<?, ?it/s]"
            ]
          },
          "metadata": {},
          "output_type": "display_data"
        },
        {
          "name": "stdout",
          "output_type": "stream",
          "text": [
            "Epoch 34, mean batch loss 1.398362200419108\n",
            "Accuracy of the network on the 10000 test images: 48 %\n"
          ]
        },
        {
          "data": {
            "application/vnd.jupyter.widget-view+json": {
              "model_id": "da3d6b7e38b3446e82e0ac0fdcc05632",
              "version_major": 2,
              "version_minor": 0
            },
            "text/plain": [
              "  0%|          | 0/750 [00:00<?, ?it/s]"
            ]
          },
          "metadata": {},
          "output_type": "display_data"
        },
        {
          "name": "stdout",
          "output_type": "stream",
          "text": [
            "Epoch 35, mean batch loss 1.3912490304311116\n",
            "Accuracy of the network on the 10000 test images: 46 %\n"
          ]
        },
        {
          "data": {
            "application/vnd.jupyter.widget-view+json": {
              "model_id": "85824e2025074935b5afbffa27cea102",
              "version_major": 2,
              "version_minor": 0
            },
            "text/plain": [
              "  0%|          | 0/750 [00:00<?, ?it/s]"
            ]
          },
          "metadata": {},
          "output_type": "display_data"
        },
        {
          "name": "stdout",
          "output_type": "stream",
          "text": [
            "Epoch 36, mean batch loss 1.3854924507141113\n",
            "Accuracy of the network on the 10000 test images: 49 %\n"
          ]
        },
        {
          "data": {
            "application/vnd.jupyter.widget-view+json": {
              "model_id": "df56ad40f3f54c27be086b5cf7bf0b3f",
              "version_major": 2,
              "version_minor": 0
            },
            "text/plain": [
              "  0%|          | 0/750 [00:00<?, ?it/s]"
            ]
          },
          "metadata": {},
          "output_type": "display_data"
        },
        {
          "name": "stdout",
          "output_type": "stream",
          "text": [
            "Epoch 37, mean batch loss 1.3868129576047261\n",
            "Accuracy of the network on the 10000 test images: 49 %\n"
          ]
        },
        {
          "data": {
            "application/vnd.jupyter.widget-view+json": {
              "model_id": "cbcb0a6eaef14b9da4f1a2c098abee54",
              "version_major": 2,
              "version_minor": 0
            },
            "text/plain": [
              "  0%|          | 0/750 [00:00<?, ?it/s]"
            ]
          },
          "metadata": {},
          "output_type": "display_data"
        },
        {
          "name": "stdout",
          "output_type": "stream",
          "text": [
            "Epoch 38, mean batch loss 1.3735605173110963\n",
            "Accuracy of the network on the 10000 test images: 49 %\n"
          ]
        },
        {
          "data": {
            "application/vnd.jupyter.widget-view+json": {
              "model_id": "b5df5fb5c52840c3b7f104a44bf4c819",
              "version_major": 2,
              "version_minor": 0
            },
            "text/plain": [
              "  0%|          | 0/750 [00:00<?, ?it/s]"
            ]
          },
          "metadata": {},
          "output_type": "display_data"
        },
        {
          "name": "stdout",
          "output_type": "stream",
          "text": [
            "Epoch 39, mean batch loss 1.3653575321038565\n",
            "Accuracy of the network on the 10000 test images: 50 %\n"
          ]
        },
        {
          "data": {
            "application/vnd.jupyter.widget-view+json": {
              "model_id": "9889e1b285db4bd8a6906ade6c03a904",
              "version_major": 2,
              "version_minor": 0
            },
            "text/plain": [
              "  0%|          | 0/750 [00:00<?, ?it/s]"
            ]
          },
          "metadata": {},
          "output_type": "display_data"
        },
        {
          "name": "stdout",
          "output_type": "stream",
          "text": [
            "Epoch 40, mean batch loss 1.3578334786097208\n",
            "Accuracy of the network on the 10000 test images: 50 %\n"
          ]
        },
        {
          "data": {
            "application/vnd.jupyter.widget-view+json": {
              "model_id": "b3c87f3f51ab48ecbb55982407d313d6",
              "version_major": 2,
              "version_minor": 0
            },
            "text/plain": [
              "  0%|          | 0/750 [00:00<?, ?it/s]"
            ]
          },
          "metadata": {},
          "output_type": "display_data"
        },
        {
          "name": "stdout",
          "output_type": "stream",
          "text": [
            "Epoch 41, mean batch loss 1.3578746627171834\n",
            "Accuracy of the network on the 10000 test images: 51 %\n"
          ]
        },
        {
          "data": {
            "application/vnd.jupyter.widget-view+json": {
              "model_id": "3cd2ddacc280495eb57eaa54a063bc82",
              "version_major": 2,
              "version_minor": 0
            },
            "text/plain": [
              "  0%|          | 0/750 [00:00<?, ?it/s]"
            ]
          },
          "metadata": {},
          "output_type": "display_data"
        },
        {
          "name": "stdout",
          "output_type": "stream",
          "text": [
            "Epoch 42, mean batch loss 1.3484717554251353\n",
            "Accuracy of the network on the 10000 test images: 49 %\n"
          ]
        },
        {
          "data": {
            "application/vnd.jupyter.widget-view+json": {
              "model_id": "beb55b38b21c4a61b4f4901e8d859c18",
              "version_major": 2,
              "version_minor": 0
            },
            "text/plain": [
              "  0%|          | 0/750 [00:00<?, ?it/s]"
            ]
          },
          "metadata": {},
          "output_type": "display_data"
        },
        {
          "name": "stdout",
          "output_type": "stream",
          "text": [
            "Epoch 43, mean batch loss 1.3512075049082437\n",
            "Accuracy of the network on the 10000 test images: 48 %\n"
          ]
        },
        {
          "data": {
            "application/vnd.jupyter.widget-view+json": {
              "model_id": "10277e25ce1740c799c1cec51f36a2af",
              "version_major": 2,
              "version_minor": 0
            },
            "text/plain": [
              "  0%|          | 0/750 [00:00<?, ?it/s]"
            ]
          },
          "metadata": {},
          "output_type": "display_data"
        },
        {
          "name": "stdout",
          "output_type": "stream",
          "text": [
            "Epoch 44, mean batch loss 1.3440618174870809\n",
            "Accuracy of the network on the 10000 test images: 50 %\n"
          ]
        },
        {
          "data": {
            "application/vnd.jupyter.widget-view+json": {
              "model_id": "4800fa491d4f469ebbf545c726c14074",
              "version_major": 2,
              "version_minor": 0
            },
            "text/plain": [
              "  0%|          | 0/750 [00:00<?, ?it/s]"
            ]
          },
          "metadata": {},
          "output_type": "display_data"
        },
        {
          "name": "stdout",
          "output_type": "stream",
          "text": [
            "Epoch 45, mean batch loss 1.3377435031731923\n",
            "Accuracy of the network on the 10000 test images: 52 %\n"
          ]
        },
        {
          "data": {
            "application/vnd.jupyter.widget-view+json": {
              "model_id": "2e9f6e2e95d04de38652e32a7b520876",
              "version_major": 2,
              "version_minor": 0
            },
            "text/plain": [
              "  0%|          | 0/750 [00:00<?, ?it/s]"
            ]
          },
          "metadata": {},
          "output_type": "display_data"
        },
        {
          "name": "stdout",
          "output_type": "stream",
          "text": [
            "Epoch 46, mean batch loss 1.3371721409956614\n",
            "Accuracy of the network on the 10000 test images: 50 %\n"
          ]
        },
        {
          "data": {
            "application/vnd.jupyter.widget-view+json": {
              "model_id": "6b7b94bb645d4cb2b66b33dc15849dff",
              "version_major": 2,
              "version_minor": 0
            },
            "text/plain": [
              "  0%|          | 0/750 [00:00<?, ?it/s]"
            ]
          },
          "metadata": {},
          "output_type": "display_data"
        },
        {
          "name": "stdout",
          "output_type": "stream",
          "text": [
            "Epoch 47, mean batch loss 1.3278570437431336\n",
            "Accuracy of the network on the 10000 test images: 52 %\n"
          ]
        },
        {
          "data": {
            "application/vnd.jupyter.widget-view+json": {
              "model_id": "4d60b72199b0406b847a8dce7df7b3f9",
              "version_major": 2,
              "version_minor": 0
            },
            "text/plain": [
              "  0%|          | 0/750 [00:00<?, ?it/s]"
            ]
          },
          "metadata": {},
          "output_type": "display_data"
        },
        {
          "name": "stdout",
          "output_type": "stream",
          "text": [
            "Epoch 48, mean batch loss 1.3235305205980936\n",
            "Accuracy of the network on the 10000 test images: 52 %\n"
          ]
        },
        {
          "data": {
            "application/vnd.jupyter.widget-view+json": {
              "model_id": "6227d1a68d994cfb987e1478f0e8dfbb",
              "version_major": 2,
              "version_minor": 0
            },
            "text/plain": [
              "  0%|          | 0/750 [00:00<?, ?it/s]"
            ]
          },
          "metadata": {},
          "output_type": "display_data"
        },
        {
          "name": "stdout",
          "output_type": "stream",
          "text": [
            "Epoch 49, mean batch loss 1.3184286756515502\n",
            "Accuracy of the network on the 10000 test images: 53 %\n"
          ]
        },
        {
          "data": {
            "application/vnd.jupyter.widget-view+json": {
              "model_id": "0c6c1ef901aa4bd1b5ca7151a2c17cc3",
              "version_major": 2,
              "version_minor": 0
            },
            "text/plain": [
              "  0%|          | 0/750 [00:00<?, ?it/s]"
            ]
          },
          "metadata": {},
          "output_type": "display_data"
        },
        {
          "name": "stdout",
          "output_type": "stream",
          "text": [
            "Epoch 50, mean batch loss 1.3113970390955607\n",
            "Accuracy of the network on the 10000 test images: 51 %\n"
          ]
        },
        {
          "data": {
            "application/vnd.jupyter.widget-view+json": {
              "model_id": "dca899adb6b84bd0b6ff96c4e26c9d27",
              "version_major": 2,
              "version_minor": 0
            },
            "text/plain": [
              "  0%|          | 0/750 [00:00<?, ?it/s]"
            ]
          },
          "metadata": {},
          "output_type": "display_data"
        },
        {
          "name": "stdout",
          "output_type": "stream",
          "text": [
            "Epoch 51, mean batch loss 1.3083326808611553\n",
            "Accuracy of the network on the 10000 test images: 53 %\n"
          ]
        },
        {
          "data": {
            "application/vnd.jupyter.widget-view+json": {
              "model_id": "3e9d5f741ae049c2aaad3218fa126d63",
              "version_major": 2,
              "version_minor": 0
            },
            "text/plain": [
              "  0%|          | 0/750 [00:00<?, ?it/s]"
            ]
          },
          "metadata": {},
          "output_type": "display_data"
        },
        {
          "name": "stdout",
          "output_type": "stream",
          "text": [
            "Epoch 52, mean batch loss 1.3073568591276805\n",
            "Accuracy of the network on the 10000 test images: 51 %\n"
          ]
        },
        {
          "data": {
            "application/vnd.jupyter.widget-view+json": {
              "model_id": "dc2144c0f4034347abc9cd763128d4e5",
              "version_major": 2,
              "version_minor": 0
            },
            "text/plain": [
              "  0%|          | 0/750 [00:00<?, ?it/s]"
            ]
          },
          "metadata": {},
          "output_type": "display_data"
        },
        {
          "name": "stdout",
          "output_type": "stream",
          "text": [
            "Epoch 53, mean batch loss 1.2954398694038392\n",
            "Accuracy of the network on the 10000 test images: 54 %\n"
          ]
        },
        {
          "data": {
            "application/vnd.jupyter.widget-view+json": {
              "model_id": "a61855409b7345aca09e643a030ca956",
              "version_major": 2,
              "version_minor": 0
            },
            "text/plain": [
              "  0%|          | 0/750 [00:00<?, ?it/s]"
            ]
          },
          "metadata": {},
          "output_type": "display_data"
        },
        {
          "name": "stdout",
          "output_type": "stream",
          "text": [
            "Epoch 54, mean batch loss 1.2938700449466705\n",
            "Accuracy of the network on the 10000 test images: 49 %\n"
          ]
        },
        {
          "data": {
            "application/vnd.jupyter.widget-view+json": {
              "model_id": "eec37cf329284a31b5556b4e21275895",
              "version_major": 2,
              "version_minor": 0
            },
            "text/plain": [
              "  0%|          | 0/750 [00:00<?, ?it/s]"
            ]
          },
          "metadata": {},
          "output_type": "display_data"
        },
        {
          "name": "stdout",
          "output_type": "stream",
          "text": [
            "Epoch 55, mean batch loss 1.3002307368119557\n",
            "Accuracy of the network on the 10000 test images: 51 %\n"
          ]
        },
        {
          "data": {
            "application/vnd.jupyter.widget-view+json": {
              "model_id": "8ec31f22cfc84832ac18506a1f5e7252",
              "version_major": 2,
              "version_minor": 0
            },
            "text/plain": [
              "  0%|          | 0/750 [00:00<?, ?it/s]"
            ]
          },
          "metadata": {},
          "output_type": "display_data"
        },
        {
          "name": "stdout",
          "output_type": "stream",
          "text": [
            "Epoch 56, mean batch loss 1.2905557196935018\n",
            "Accuracy of the network on the 10000 test images: 53 %\n"
          ]
        },
        {
          "data": {
            "application/vnd.jupyter.widget-view+json": {
              "model_id": "708c0d779f79454dbb454ca92a6a2dda",
              "version_major": 2,
              "version_minor": 0
            },
            "text/plain": [
              "  0%|          | 0/750 [00:00<?, ?it/s]"
            ]
          },
          "metadata": {},
          "output_type": "display_data"
        },
        {
          "name": "stdout",
          "output_type": "stream",
          "text": [
            "Epoch 57, mean batch loss 1.2890459656715394\n",
            "Accuracy of the network on the 10000 test images: 52 %\n"
          ]
        },
        {
          "data": {
            "application/vnd.jupyter.widget-view+json": {
              "model_id": "86ffe03e294b4f11b04707383c1f0494",
              "version_major": 2,
              "version_minor": 0
            },
            "text/plain": [
              "  0%|          | 0/750 [00:00<?, ?it/s]"
            ]
          },
          "metadata": {},
          "output_type": "display_data"
        },
        {
          "name": "stdout",
          "output_type": "stream",
          "text": [
            "Epoch 58, mean batch loss 1.28095392092069\n",
            "Accuracy of the network on the 10000 test images: 52 %\n"
          ]
        },
        {
          "data": {
            "application/vnd.jupyter.widget-view+json": {
              "model_id": "193bb611ec5f45e3a6c26bd00697cdaa",
              "version_major": 2,
              "version_minor": 0
            },
            "text/plain": [
              "  0%|          | 0/750 [00:00<?, ?it/s]"
            ]
          },
          "metadata": {},
          "output_type": "display_data"
        },
        {
          "name": "stdout",
          "output_type": "stream",
          "text": [
            "Epoch 59, mean batch loss 1.2836325345039368\n",
            "Accuracy of the network on the 10000 test images: 52 %\n"
          ]
        },
        {
          "data": {
            "application/vnd.jupyter.widget-view+json": {
              "model_id": "5e3d8dfc4975481b865b65a8b2ec2768",
              "version_major": 2,
              "version_minor": 0
            },
            "text/plain": [
              "  0%|          | 0/750 [00:00<?, ?it/s]"
            ]
          },
          "metadata": {},
          "output_type": "display_data"
        },
        {
          "name": "stdout",
          "output_type": "stream",
          "text": [
            "Epoch 60, mean batch loss 1.2787122039000194\n",
            "Accuracy of the network on the 10000 test images: 54 %\n"
          ]
        },
        {
          "data": {
            "application/vnd.jupyter.widget-view+json": {
              "model_id": "5137a3e169264d498b92446457b5d9f8",
              "version_major": 2,
              "version_minor": 0
            },
            "text/plain": [
              "  0%|          | 0/750 [00:00<?, ?it/s]"
            ]
          },
          "metadata": {},
          "output_type": "display_data"
        },
        {
          "name": "stdout",
          "output_type": "stream",
          "text": [
            "Epoch 61, mean batch loss 1.2741874574025471\n",
            "Accuracy of the network on the 10000 test images: 54 %\n"
          ]
        },
        {
          "data": {
            "application/vnd.jupyter.widget-view+json": {
              "model_id": "845607734e3841fe9a10ec689685e387",
              "version_major": 2,
              "version_minor": 0
            },
            "text/plain": [
              "  0%|          | 0/750 [00:00<?, ?it/s]"
            ]
          },
          "metadata": {},
          "output_type": "display_data"
        },
        {
          "name": "stdout",
          "output_type": "stream",
          "text": [
            "Epoch 62, mean batch loss 1.2622835001150767\n",
            "Accuracy of the network on the 10000 test images: 52 %\n"
          ]
        },
        {
          "data": {
            "application/vnd.jupyter.widget-view+json": {
              "model_id": "43ca85afcfeb47cb98347b5276fd1789",
              "version_major": 2,
              "version_minor": 0
            },
            "text/plain": [
              "  0%|          | 0/750 [00:00<?, ?it/s]"
            ]
          },
          "metadata": {},
          "output_type": "display_data"
        },
        {
          "name": "stdout",
          "output_type": "stream",
          "text": [
            "Epoch 63, mean batch loss 1.272377781867981\n",
            "Accuracy of the network on the 10000 test images: 54 %\n"
          ]
        },
        {
          "data": {
            "application/vnd.jupyter.widget-view+json": {
              "model_id": "9725985f78fe41d1b0a1f0e4b9b62c23",
              "version_major": 2,
              "version_minor": 0
            },
            "text/plain": [
              "  0%|          | 0/750 [00:00<?, ?it/s]"
            ]
          },
          "metadata": {},
          "output_type": "display_data"
        },
        {
          "name": "stdout",
          "output_type": "stream",
          "text": [
            "Epoch 64, mean batch loss 1.2650992590586345\n",
            "Accuracy of the network on the 10000 test images: 53 %\n"
          ]
        },
        {
          "data": {
            "application/vnd.jupyter.widget-view+json": {
              "model_id": "1273c8c301664432b3fe5a6a65c65a5a",
              "version_major": 2,
              "version_minor": 0
            },
            "text/plain": [
              "  0%|          | 0/750 [00:00<?, ?it/s]"
            ]
          },
          "metadata": {},
          "output_type": "display_data"
        },
        {
          "name": "stdout",
          "output_type": "stream",
          "text": [
            "Epoch 65, mean batch loss 1.2660105625788372\n",
            "Accuracy of the network on the 10000 test images: 53 %\n"
          ]
        },
        {
          "data": {
            "application/vnd.jupyter.widget-view+json": {
              "model_id": "2979a53615d84d0e965fc6e83246c6a0",
              "version_major": 2,
              "version_minor": 0
            },
            "text/plain": [
              "  0%|          | 0/750 [00:00<?, ?it/s]"
            ]
          },
          "metadata": {},
          "output_type": "display_data"
        },
        {
          "name": "stdout",
          "output_type": "stream",
          "text": [
            "Epoch 66, mean batch loss 1.2574349431991576\n",
            "Accuracy of the network on the 10000 test images: 54 %\n"
          ]
        },
        {
          "data": {
            "application/vnd.jupyter.widget-view+json": {
              "model_id": "c82a9192c2804b699d8f7527ea163563",
              "version_major": 2,
              "version_minor": 0
            },
            "text/plain": [
              "  0%|          | 0/750 [00:00<?, ?it/s]"
            ]
          },
          "metadata": {},
          "output_type": "display_data"
        },
        {
          "name": "stdout",
          "output_type": "stream",
          "text": [
            "Epoch 67, mean batch loss 1.2583516318003336\n",
            "Accuracy of the network on the 10000 test images: 54 %\n"
          ]
        },
        {
          "data": {
            "application/vnd.jupyter.widget-view+json": {
              "model_id": "ae200176db884351a15cb4ee70d18fc8",
              "version_major": 2,
              "version_minor": 0
            },
            "text/plain": [
              "  0%|          | 0/750 [00:00<?, ?it/s]"
            ]
          },
          "metadata": {},
          "output_type": "display_data"
        },
        {
          "name": "stdout",
          "output_type": "stream",
          "text": [
            "Epoch 68, mean batch loss 1.250833995183309\n",
            "Accuracy of the network on the 10000 test images: 54 %\n"
          ]
        },
        {
          "data": {
            "application/vnd.jupyter.widget-view+json": {
              "model_id": "f00ddd590b23442aa57e0a6be2eb315e",
              "version_major": 2,
              "version_minor": 0
            },
            "text/plain": [
              "  0%|          | 0/750 [00:00<?, ?it/s]"
            ]
          },
          "metadata": {},
          "output_type": "display_data"
        },
        {
          "name": "stdout",
          "output_type": "stream",
          "text": [
            "Epoch 69, mean batch loss 1.246472180525462\n",
            "Accuracy of the network on the 10000 test images: 53 %\n"
          ]
        },
        {
          "data": {
            "application/vnd.jupyter.widget-view+json": {
              "model_id": "29293fcc7b0b4c15b4947133c15e61d1",
              "version_major": 2,
              "version_minor": 0
            },
            "text/plain": [
              "  0%|          | 0/750 [00:00<?, ?it/s]"
            ]
          },
          "metadata": {},
          "output_type": "display_data"
        },
        {
          "name": "stdout",
          "output_type": "stream",
          "text": [
            "Epoch 70, mean batch loss 1.2485166348616281\n",
            "Accuracy of the network on the 10000 test images: 55 %\n"
          ]
        },
        {
          "data": {
            "application/vnd.jupyter.widget-view+json": {
              "model_id": "dffa3dcc1a0c46a890a0ca5fca1c3502",
              "version_major": 2,
              "version_minor": 0
            },
            "text/plain": [
              "  0%|          | 0/750 [00:00<?, ?it/s]"
            ]
          },
          "metadata": {},
          "output_type": "display_data"
        },
        {
          "name": "stdout",
          "output_type": "stream",
          "text": [
            "Epoch 71, mean batch loss 1.2462655824025473\n",
            "Accuracy of the network on the 10000 test images: 55 %\n"
          ]
        },
        {
          "data": {
            "application/vnd.jupyter.widget-view+json": {
              "model_id": "0051f161de20497394be45bbdbce8a0b",
              "version_major": 2,
              "version_minor": 0
            },
            "text/plain": [
              "  0%|          | 0/750 [00:00<?, ?it/s]"
            ]
          },
          "metadata": {},
          "output_type": "display_data"
        },
        {
          "name": "stdout",
          "output_type": "stream",
          "text": [
            "Epoch 72, mean batch loss 1.2399440920352935\n",
            "Accuracy of the network on the 10000 test images: 54 %\n"
          ]
        },
        {
          "data": {
            "application/vnd.jupyter.widget-view+json": {
              "model_id": "a9e7c5db79ce4c02a69b897e423e77d2",
              "version_major": 2,
              "version_minor": 0
            },
            "text/plain": [
              "  0%|          | 0/750 [00:00<?, ?it/s]"
            ]
          },
          "metadata": {},
          "output_type": "display_data"
        },
        {
          "name": "stdout",
          "output_type": "stream",
          "text": [
            "Epoch 73, mean batch loss 1.237626510779063\n",
            "Accuracy of the network on the 10000 test images: 53 %\n"
          ]
        },
        {
          "data": {
            "application/vnd.jupyter.widget-view+json": {
              "model_id": "3706ae9668df4c66a0af325c52e3d0f5",
              "version_major": 2,
              "version_minor": 0
            },
            "text/plain": [
              "  0%|          | 0/750 [00:00<?, ?it/s]"
            ]
          },
          "metadata": {},
          "output_type": "display_data"
        },
        {
          "name": "stdout",
          "output_type": "stream",
          "text": [
            "Epoch 74, mean batch loss 1.2328189399242402\n",
            "Accuracy of the network on the 10000 test images: 55 %\n"
          ]
        },
        {
          "data": {
            "application/vnd.jupyter.widget-view+json": {
              "model_id": "5f3cf2144c7f4010b4ba3098231a8cb2",
              "version_major": 2,
              "version_minor": 0
            },
            "text/plain": [
              "  0%|          | 0/750 [00:00<?, ?it/s]"
            ]
          },
          "metadata": {},
          "output_type": "display_data"
        },
        {
          "name": "stdout",
          "output_type": "stream",
          "text": [
            "Epoch 75, mean batch loss 1.232836949110031\n",
            "Accuracy of the network on the 10000 test images: 55 %\n"
          ]
        },
        {
          "data": {
            "application/vnd.jupyter.widget-view+json": {
              "model_id": "d616bb26ab0b467092d4ba8b1e8b88b6",
              "version_major": 2,
              "version_minor": 0
            },
            "text/plain": [
              "  0%|          | 0/750 [00:00<?, ?it/s]"
            ]
          },
          "metadata": {},
          "output_type": "display_data"
        },
        {
          "name": "stdout",
          "output_type": "stream",
          "text": [
            "Epoch 76, mean batch loss 1.229174104531606\n",
            "Accuracy of the network on the 10000 test images: 55 %\n"
          ]
        },
        {
          "data": {
            "application/vnd.jupyter.widget-view+json": {
              "model_id": "ae8e3f5ff6ab4374acb84ae5df1ede53",
              "version_major": 2,
              "version_minor": 0
            },
            "text/plain": [
              "  0%|          | 0/750 [00:00<?, ?it/s]"
            ]
          },
          "metadata": {},
          "output_type": "display_data"
        },
        {
          "name": "stdout",
          "output_type": "stream",
          "text": [
            "Epoch 77, mean batch loss 1.2277356497446696\n",
            "Accuracy of the network on the 10000 test images: 54 %\n"
          ]
        },
        {
          "data": {
            "application/vnd.jupyter.widget-view+json": {
              "model_id": "aea523950b98441c84ac03e1afc0785a",
              "version_major": 2,
              "version_minor": 0
            },
            "text/plain": [
              "  0%|          | 0/750 [00:00<?, ?it/s]"
            ]
          },
          "metadata": {},
          "output_type": "display_data"
        },
        {
          "name": "stdout",
          "output_type": "stream",
          "text": [
            "Epoch 78, mean batch loss 1.2237597680886587\n",
            "Accuracy of the network on the 10000 test images: 53 %\n"
          ]
        },
        {
          "data": {
            "application/vnd.jupyter.widget-view+json": {
              "model_id": "5b03686515b54ad483d79c9b99a62cb5",
              "version_major": 2,
              "version_minor": 0
            },
            "text/plain": [
              "  0%|          | 0/750 [00:00<?, ?it/s]"
            ]
          },
          "metadata": {},
          "output_type": "display_data"
        },
        {
          "name": "stdout",
          "output_type": "stream",
          "text": [
            "Epoch 79, mean batch loss 1.2275336093902587\n",
            "Accuracy of the network on the 10000 test images: 55 %\n"
          ]
        },
        {
          "data": {
            "application/vnd.jupyter.widget-view+json": {
              "model_id": "e8c213e8a24d4b72ae74ce7ca5103447",
              "version_major": 2,
              "version_minor": 0
            },
            "text/plain": [
              "  0%|          | 0/750 [00:00<?, ?it/s]"
            ]
          },
          "metadata": {},
          "output_type": "display_data"
        },
        {
          "name": "stdout",
          "output_type": "stream",
          "text": [
            "Epoch 80, mean batch loss 1.2186160708268483\n",
            "Accuracy of the network on the 10000 test images: 55 %\n"
          ]
        },
        {
          "data": {
            "application/vnd.jupyter.widget-view+json": {
              "model_id": "15f1892ada114646999e391e6752fd09",
              "version_major": 2,
              "version_minor": 0
            },
            "text/plain": [
              "  0%|          | 0/750 [00:00<?, ?it/s]"
            ]
          },
          "metadata": {},
          "output_type": "display_data"
        },
        {
          "name": "stdout",
          "output_type": "stream",
          "text": [
            "Epoch 81, mean batch loss 1.2179550524552663\n",
            "Accuracy of the network on the 10000 test images: 53 %\n"
          ]
        },
        {
          "data": {
            "application/vnd.jupyter.widget-view+json": {
              "model_id": "1ab93ef9236647c596b267ba84bb55ad",
              "version_major": 2,
              "version_minor": 0
            },
            "text/plain": [
              "  0%|          | 0/750 [00:00<?, ?it/s]"
            ]
          },
          "metadata": {},
          "output_type": "display_data"
        },
        {
          "name": "stdout",
          "output_type": "stream",
          "text": [
            "Epoch 82, mean batch loss 1.2215788834095\n",
            "Accuracy of the network on the 10000 test images: 55 %\n"
          ]
        },
        {
          "data": {
            "application/vnd.jupyter.widget-view+json": {
              "model_id": "992d825257b6489c9155e8c05aad6777",
              "version_major": 2,
              "version_minor": 0
            },
            "text/plain": [
              "  0%|          | 0/750 [00:00<?, ?it/s]"
            ]
          },
          "metadata": {},
          "output_type": "display_data"
        },
        {
          "name": "stdout",
          "output_type": "stream",
          "text": [
            "Epoch 83, mean batch loss 1.2186291417280832\n",
            "Accuracy of the network on the 10000 test images: 55 %\n"
          ]
        },
        {
          "data": {
            "application/vnd.jupyter.widget-view+json": {
              "model_id": "8b7101c877824ca491191876c76f8ab3",
              "version_major": 2,
              "version_minor": 0
            },
            "text/plain": [
              "  0%|          | 0/750 [00:00<?, ?it/s]"
            ]
          },
          "metadata": {},
          "output_type": "display_data"
        },
        {
          "name": "stdout",
          "output_type": "stream",
          "text": [
            "Epoch 84, mean batch loss 1.211238864103953\n",
            "Accuracy of the network on the 10000 test images: 54 %\n"
          ]
        },
        {
          "data": {
            "application/vnd.jupyter.widget-view+json": {
              "model_id": "2e523192b3374fd29ddd78ee040e588f",
              "version_major": 2,
              "version_minor": 0
            },
            "text/plain": [
              "  0%|          | 0/750 [00:00<?, ?it/s]"
            ]
          },
          "metadata": {},
          "output_type": "display_data"
        },
        {
          "name": "stdout",
          "output_type": "stream",
          "text": [
            "Epoch 85, mean batch loss 1.204268805662791\n",
            "Accuracy of the network on the 10000 test images: 56 %\n"
          ]
        },
        {
          "data": {
            "application/vnd.jupyter.widget-view+json": {
              "model_id": "af7c2c315b9543e1a58912efdb8ff394",
              "version_major": 2,
              "version_minor": 0
            },
            "text/plain": [
              "  0%|          | 0/750 [00:00<?, ?it/s]"
            ]
          },
          "metadata": {},
          "output_type": "display_data"
        },
        {
          "name": "stdout",
          "output_type": "stream",
          "text": [
            "Epoch 86, mean batch loss 1.2108829627831776\n",
            "Accuracy of the network on the 10000 test images: 55 %\n"
          ]
        },
        {
          "data": {
            "application/vnd.jupyter.widget-view+json": {
              "model_id": "ee0c4412224c4df28ef5a006a2a53976",
              "version_major": 2,
              "version_minor": 0
            },
            "text/plain": [
              "  0%|          | 0/750 [00:00<?, ?it/s]"
            ]
          },
          "metadata": {},
          "output_type": "display_data"
        },
        {
          "name": "stdout",
          "output_type": "stream",
          "text": [
            "Epoch 87, mean batch loss 1.2044398673375447\n",
            "Accuracy of the network on the 10000 test images: 54 %\n"
          ]
        },
        {
          "data": {
            "application/vnd.jupyter.widget-view+json": {
              "model_id": "a24315d016894f3a92565e6c9cbefe92",
              "version_major": 2,
              "version_minor": 0
            },
            "text/plain": [
              "  0%|          | 0/750 [00:00<?, ?it/s]"
            ]
          },
          "metadata": {},
          "output_type": "display_data"
        },
        {
          "name": "stdout",
          "output_type": "stream",
          "text": [
            "Epoch 88, mean batch loss 1.2077842082182566\n",
            "Accuracy of the network on the 10000 test images: 56 %\n"
          ]
        },
        {
          "data": {
            "application/vnd.jupyter.widget-view+json": {
              "model_id": "99d70dc697fa49de8cb4fd8c122a1a93",
              "version_major": 2,
              "version_minor": 0
            },
            "text/plain": [
              "  0%|          | 0/750 [00:00<?, ?it/s]"
            ]
          },
          "metadata": {},
          "output_type": "display_data"
        },
        {
          "name": "stdout",
          "output_type": "stream",
          "text": [
            "Epoch 89, mean batch loss 1.2036998989582062\n",
            "Accuracy of the network on the 10000 test images: 55 %\n"
          ]
        },
        {
          "data": {
            "application/vnd.jupyter.widget-view+json": {
              "model_id": "919798dd946a46be9beb1eed7f47e202",
              "version_major": 2,
              "version_minor": 0
            },
            "text/plain": [
              "  0%|          | 0/750 [00:00<?, ?it/s]"
            ]
          },
          "metadata": {},
          "output_type": "display_data"
        },
        {
          "name": "stdout",
          "output_type": "stream",
          "text": [
            "Epoch 90, mean batch loss 1.195622178554535\n",
            "Accuracy of the network on the 10000 test images: 56 %\n"
          ]
        },
        {
          "data": {
            "application/vnd.jupyter.widget-view+json": {
              "model_id": "68836c075c504439807b92d1ecf2dd51",
              "version_major": 2,
              "version_minor": 0
            },
            "text/plain": [
              "  0%|          | 0/750 [00:00<?, ?it/s]"
            ]
          },
          "metadata": {},
          "output_type": "display_data"
        },
        {
          "name": "stdout",
          "output_type": "stream",
          "text": [
            "Epoch 91, mean batch loss 1.201587598959605\n",
            "Accuracy of the network on the 10000 test images: 53 %\n"
          ]
        },
        {
          "data": {
            "application/vnd.jupyter.widget-view+json": {
              "model_id": "89bb5f8fdab44c0d8caac2ab9081f761",
              "version_major": 2,
              "version_minor": 0
            },
            "text/plain": [
              "  0%|          | 0/750 [00:00<?, ?it/s]"
            ]
          },
          "metadata": {},
          "output_type": "display_data"
        },
        {
          "name": "stdout",
          "output_type": "stream",
          "text": [
            "Epoch 92, mean batch loss 1.1941801189581553\n",
            "Accuracy of the network on the 10000 test images: 56 %\n"
          ]
        },
        {
          "data": {
            "application/vnd.jupyter.widget-view+json": {
              "model_id": "e3f5dcdb053d4d0994cb057e8c65f6bf",
              "version_major": 2,
              "version_minor": 0
            },
            "text/plain": [
              "  0%|          | 0/750 [00:00<?, ?it/s]"
            ]
          },
          "metadata": {},
          "output_type": "display_data"
        },
        {
          "name": "stdout",
          "output_type": "stream",
          "text": [
            "Epoch 93, mean batch loss 1.198735689163208\n",
            "Accuracy of the network on the 10000 test images: 54 %\n"
          ]
        },
        {
          "data": {
            "application/vnd.jupyter.widget-view+json": {
              "model_id": "75484b068d984cc78c57c2806357171a",
              "version_major": 2,
              "version_minor": 0
            },
            "text/plain": [
              "  0%|          | 0/750 [00:00<?, ?it/s]"
            ]
          },
          "metadata": {},
          "output_type": "display_data"
        },
        {
          "name": "stdout",
          "output_type": "stream",
          "text": [
            "Epoch 94, mean batch loss 1.1998580838044484\n",
            "Accuracy of the network on the 10000 test images: 55 %\n"
          ]
        },
        {
          "data": {
            "application/vnd.jupyter.widget-view+json": {
              "model_id": "d71393b9166a41658d8101b7f6a55826",
              "version_major": 2,
              "version_minor": 0
            },
            "text/plain": [
              "  0%|          | 0/750 [00:00<?, ?it/s]"
            ]
          },
          "metadata": {},
          "output_type": "display_data"
        },
        {
          "name": "stdout",
          "output_type": "stream",
          "text": [
            "Epoch 95, mean batch loss 1.18965265194575\n",
            "Accuracy of the network on the 10000 test images: 55 %\n"
          ]
        },
        {
          "data": {
            "application/vnd.jupyter.widget-view+json": {
              "model_id": "bdb7c87383624ceb9373dff9b44c385f",
              "version_major": 2,
              "version_minor": 0
            },
            "text/plain": [
              "  0%|          | 0/750 [00:00<?, ?it/s]"
            ]
          },
          "metadata": {},
          "output_type": "display_data"
        },
        {
          "name": "stdout",
          "output_type": "stream",
          "text": [
            "Epoch 96, mean batch loss 1.1884512468973796\n",
            "Accuracy of the network on the 10000 test images: 56 %\n"
          ]
        },
        {
          "data": {
            "application/vnd.jupyter.widget-view+json": {
              "model_id": "32cae00c7bfe45a1813ef7be39878bbd",
              "version_major": 2,
              "version_minor": 0
            },
            "text/plain": [
              "  0%|          | 0/750 [00:00<?, ?it/s]"
            ]
          },
          "metadata": {},
          "output_type": "display_data"
        },
        {
          "name": "stdout",
          "output_type": "stream",
          "text": [
            "Epoch 97, mean batch loss 1.1878918273448944\n",
            "Accuracy of the network on the 10000 test images: 57 %\n"
          ]
        },
        {
          "data": {
            "application/vnd.jupyter.widget-view+json": {
              "model_id": "f5bae7d520384acc9c255ed3af5bcef3",
              "version_major": 2,
              "version_minor": 0
            },
            "text/plain": [
              "  0%|          | 0/750 [00:00<?, ?it/s]"
            ]
          },
          "metadata": {},
          "output_type": "display_data"
        },
        {
          "name": "stdout",
          "output_type": "stream",
          "text": [
            "Epoch 98, mean batch loss 1.181249854405721\n",
            "Accuracy of the network on the 10000 test images: 54 %\n"
          ]
        },
        {
          "data": {
            "application/vnd.jupyter.widget-view+json": {
              "model_id": "a669592194fe454eb63a25452fc0b6ef",
              "version_major": 2,
              "version_minor": 0
            },
            "text/plain": [
              "  0%|          | 0/750 [00:00<?, ?it/s]"
            ]
          },
          "metadata": {},
          "output_type": "display_data"
        },
        {
          "name": "stdout",
          "output_type": "stream",
          "text": [
            "Epoch 99, mean batch loss 1.1806197961966196\n",
            "Accuracy of the network on the 10000 test images: 57 %\n"
          ]
        },
        {
          "data": {
            "application/vnd.jupyter.widget-view+json": {
              "model_id": "f6a7c6e4739a4da1b6782a062c290b2d",
              "version_major": 2,
              "version_minor": 0
            },
            "text/plain": [
              "  0%|          | 0/750 [00:00<?, ?it/s]"
            ]
          },
          "metadata": {},
          "output_type": "display_data"
        },
        {
          "name": "stdout",
          "output_type": "stream",
          "text": [
            "Epoch 100, mean batch loss 1.181415600935618\n",
            "Accuracy of the network on the 10000 test images: 55 %\n"
          ]
        },
        {
          "data": {
            "application/vnd.jupyter.widget-view+json": {
              "model_id": "d256c8857f33409883fa4a9f5bf474f9",
              "version_major": 2,
              "version_minor": 0
            },
            "text/plain": [
              "  0%|          | 0/750 [00:00<?, ?it/s]"
            ]
          },
          "metadata": {},
          "output_type": "display_data"
        },
        {
          "name": "stdout",
          "output_type": "stream",
          "text": [
            "Epoch 101, mean batch loss 1.1813474706808726\n",
            "Accuracy of the network on the 10000 test images: 54 %\n"
          ]
        },
        {
          "data": {
            "application/vnd.jupyter.widget-view+json": {
              "model_id": "fb3073fcfbe244baabe2088a90f7d78a",
              "version_major": 2,
              "version_minor": 0
            },
            "text/plain": [
              "  0%|          | 0/750 [00:00<?, ?it/s]"
            ]
          },
          "metadata": {},
          "output_type": "display_data"
        },
        {
          "name": "stdout",
          "output_type": "stream",
          "text": [
            "Epoch 102, mean batch loss 1.1749275059700013\n",
            "Accuracy of the network on the 10000 test images: 54 %\n"
          ]
        },
        {
          "data": {
            "application/vnd.jupyter.widget-view+json": {
              "model_id": "cb6c8c41c16f40cc8f166e3c43cb4539",
              "version_major": 2,
              "version_minor": 0
            },
            "text/plain": [
              "  0%|          | 0/750 [00:00<?, ?it/s]"
            ]
          },
          "metadata": {},
          "output_type": "display_data"
        },
        {
          "name": "stdout",
          "output_type": "stream",
          "text": [
            "Epoch 103, mean batch loss 1.1798753213087718\n",
            "Accuracy of the network on the 10000 test images: 54 %\n"
          ]
        },
        {
          "data": {
            "application/vnd.jupyter.widget-view+json": {
              "model_id": "922f1781aa9149b4a311434bd403e72a",
              "version_major": 2,
              "version_minor": 0
            },
            "text/plain": [
              "  0%|          | 0/750 [00:00<?, ?it/s]"
            ]
          },
          "metadata": {},
          "output_type": "display_data"
        },
        {
          "name": "stdout",
          "output_type": "stream",
          "text": [
            "Epoch 104, mean batch loss 1.1790372448762259\n",
            "Accuracy of the network on the 10000 test images: 54 %\n"
          ]
        },
        {
          "data": {
            "application/vnd.jupyter.widget-view+json": {
              "model_id": "bc6b154903844d90b3386429f8aa0705",
              "version_major": 2,
              "version_minor": 0
            },
            "text/plain": [
              "  0%|          | 0/750 [00:00<?, ?it/s]"
            ]
          },
          "metadata": {},
          "output_type": "display_data"
        },
        {
          "name": "stdout",
          "output_type": "stream",
          "text": [
            "Epoch 105, mean batch loss 1.1768543725013734\n",
            "Accuracy of the network on the 10000 test images: 57 %\n"
          ]
        },
        {
          "data": {
            "application/vnd.jupyter.widget-view+json": {
              "model_id": "6b36f7de3a0a46578d04d60f692174f7",
              "version_major": 2,
              "version_minor": 0
            },
            "text/plain": [
              "  0%|          | 0/750 [00:00<?, ?it/s]"
            ]
          },
          "metadata": {},
          "output_type": "display_data"
        },
        {
          "name": "stdout",
          "output_type": "stream",
          "text": [
            "Epoch 106, mean batch loss 1.1766780014832814\n",
            "Accuracy of the network on the 10000 test images: 56 %\n"
          ]
        },
        {
          "data": {
            "application/vnd.jupyter.widget-view+json": {
              "model_id": "ec379a580e1648a58d143fe928e0535f",
              "version_major": 2,
              "version_minor": 0
            },
            "text/plain": [
              "  0%|          | 0/750 [00:00<?, ?it/s]"
            ]
          },
          "metadata": {},
          "output_type": "display_data"
        },
        {
          "name": "stdout",
          "output_type": "stream",
          "text": [
            "Epoch 107, mean batch loss 1.1676115353902181\n",
            "Accuracy of the network on the 10000 test images: 58 %\n"
          ]
        },
        {
          "data": {
            "application/vnd.jupyter.widget-view+json": {
              "model_id": "6e4d3ce60e194326a652ff3148367c6b",
              "version_major": 2,
              "version_minor": 0
            },
            "text/plain": [
              "  0%|          | 0/750 [00:00<?, ?it/s]"
            ]
          },
          "metadata": {},
          "output_type": "display_data"
        },
        {
          "name": "stdout",
          "output_type": "stream",
          "text": [
            "Epoch 108, mean batch loss 1.1674196167786917\n",
            "Accuracy of the network on the 10000 test images: 56 %\n"
          ]
        },
        {
          "data": {
            "application/vnd.jupyter.widget-view+json": {
              "model_id": "b82c192945b248b2bbfaf90d9f40e980",
              "version_major": 2,
              "version_minor": 0
            },
            "text/plain": [
              "  0%|          | 0/750 [00:00<?, ?it/s]"
            ]
          },
          "metadata": {},
          "output_type": "display_data"
        },
        {
          "name": "stdout",
          "output_type": "stream",
          "text": [
            "Epoch 109, mean batch loss 1.1686241496404013\n",
            "Accuracy of the network on the 10000 test images: 56 %\n"
          ]
        },
        {
          "data": {
            "application/vnd.jupyter.widget-view+json": {
              "model_id": "155ab783deac4a1e90c0da58e7b6fde6",
              "version_major": 2,
              "version_minor": 0
            },
            "text/plain": [
              "  0%|          | 0/750 [00:00<?, ?it/s]"
            ]
          },
          "metadata": {},
          "output_type": "display_data"
        },
        {
          "name": "stdout",
          "output_type": "stream",
          "text": [
            "Epoch 110, mean batch loss 1.1662938195864359\n",
            "Accuracy of the network on the 10000 test images: 57 %\n"
          ]
        },
        {
          "data": {
            "application/vnd.jupyter.widget-view+json": {
              "model_id": "f189cd2ef3f0421898eef01738be31be",
              "version_major": 2,
              "version_minor": 0
            },
            "text/plain": [
              "  0%|          | 0/750 [00:00<?, ?it/s]"
            ]
          },
          "metadata": {},
          "output_type": "display_data"
        },
        {
          "name": "stdout",
          "output_type": "stream",
          "text": [
            "Epoch 111, mean batch loss 1.165148403565089\n",
            "Accuracy of the network on the 10000 test images: 57 %\n"
          ]
        },
        {
          "data": {
            "application/vnd.jupyter.widget-view+json": {
              "model_id": "72892002a1c6469fa8f4b55198bc3d33",
              "version_major": 2,
              "version_minor": 0
            },
            "text/plain": [
              "  0%|          | 0/750 [00:00<?, ?it/s]"
            ]
          },
          "metadata": {},
          "output_type": "display_data"
        },
        {
          "name": "stdout",
          "output_type": "stream",
          "text": [
            "Epoch 112, mean batch loss 1.1687419112523396\n",
            "Accuracy of the network on the 10000 test images: 57 %\n"
          ]
        },
        {
          "data": {
            "application/vnd.jupyter.widget-view+json": {
              "model_id": "8135292243ee4c5e96d4c422802227f0",
              "version_major": 2,
              "version_minor": 0
            },
            "text/plain": [
              "  0%|          | 0/750 [00:00<?, ?it/s]"
            ]
          },
          "metadata": {},
          "output_type": "display_data"
        },
        {
          "name": "stdout",
          "output_type": "stream",
          "text": [
            "Epoch 113, mean batch loss 1.1581915783882142\n",
            "Accuracy of the network on the 10000 test images: 57 %\n"
          ]
        },
        {
          "data": {
            "application/vnd.jupyter.widget-view+json": {
              "model_id": "9a6cc78c5b79442ebaaeb06411b18b1b",
              "version_major": 2,
              "version_minor": 0
            },
            "text/plain": [
              "  0%|          | 0/750 [00:00<?, ?it/s]"
            ]
          },
          "metadata": {},
          "output_type": "display_data"
        },
        {
          "name": "stdout",
          "output_type": "stream",
          "text": [
            "Epoch 114, mean batch loss 1.1581189506053924\n",
            "Accuracy of the network on the 10000 test images: 55 %\n"
          ]
        },
        {
          "data": {
            "application/vnd.jupyter.widget-view+json": {
              "model_id": "b4d87b129de84aaea43a4ad1b4f1b557",
              "version_major": 2,
              "version_minor": 0
            },
            "text/plain": [
              "  0%|          | 0/750 [00:00<?, ?it/s]"
            ]
          },
          "metadata": {},
          "output_type": "display_data"
        },
        {
          "name": "stdout",
          "output_type": "stream",
          "text": [
            "Epoch 115, mean batch loss 1.1548902622063955\n",
            "Accuracy of the network on the 10000 test images: 57 %\n"
          ]
        },
        {
          "data": {
            "application/vnd.jupyter.widget-view+json": {
              "model_id": "599a3dd436ba4a7b907af9788d163563",
              "version_major": 2,
              "version_minor": 0
            },
            "text/plain": [
              "  0%|          | 0/750 [00:00<?, ?it/s]"
            ]
          },
          "metadata": {},
          "output_type": "display_data"
        },
        {
          "name": "stdout",
          "output_type": "stream",
          "text": [
            "Epoch 116, mean batch loss 1.1610461815198263\n",
            "Accuracy of the network on the 10000 test images: 55 %\n"
          ]
        },
        {
          "data": {
            "application/vnd.jupyter.widget-view+json": {
              "model_id": "81ea4afdebbe4f5498efba77bcdd7c90",
              "version_major": 2,
              "version_minor": 0
            },
            "text/plain": [
              "  0%|          | 0/750 [00:00<?, ?it/s]"
            ]
          },
          "metadata": {},
          "output_type": "display_data"
        },
        {
          "name": "stdout",
          "output_type": "stream",
          "text": [
            "Epoch 117, mean batch loss 1.1545656038920085\n",
            "Accuracy of the network on the 10000 test images: 54 %\n"
          ]
        },
        {
          "data": {
            "application/vnd.jupyter.widget-view+json": {
              "model_id": "5c6fcdea7850497a98b8bfa9283f8c4a",
              "version_major": 2,
              "version_minor": 0
            },
            "text/plain": [
              "  0%|          | 0/750 [00:00<?, ?it/s]"
            ]
          },
          "metadata": {},
          "output_type": "display_data"
        },
        {
          "name": "stdout",
          "output_type": "stream",
          "text": [
            "Epoch 118, mean batch loss 1.154682794014613\n",
            "Accuracy of the network on the 10000 test images: 56 %\n"
          ]
        },
        {
          "data": {
            "application/vnd.jupyter.widget-view+json": {
              "model_id": "02fefd38696049b2832a67d522446072",
              "version_major": 2,
              "version_minor": 0
            },
            "text/plain": [
              "  0%|          | 0/750 [00:00<?, ?it/s]"
            ]
          },
          "metadata": {},
          "output_type": "display_data"
        },
        {
          "name": "stdout",
          "output_type": "stream",
          "text": [
            "Epoch 119, mean batch loss 1.1534455468654632\n",
            "Accuracy of the network on the 10000 test images: 58 %\n"
          ]
        },
        {
          "data": {
            "application/vnd.jupyter.widget-view+json": {
              "model_id": "964fdf60f3224aa4b18832de0d4c4427",
              "version_major": 2,
              "version_minor": 0
            },
            "text/plain": [
              "  0%|          | 0/750 [00:00<?, ?it/s]"
            ]
          },
          "metadata": {},
          "output_type": "display_data"
        },
        {
          "name": "stdout",
          "output_type": "stream",
          "text": [
            "Epoch 120, mean batch loss 1.151444136460622\n",
            "Accuracy of the network on the 10000 test images: 56 %\n"
          ]
        },
        {
          "data": {
            "application/vnd.jupyter.widget-view+json": {
              "model_id": "242e88fe14374203a49c61996d820070",
              "version_major": 2,
              "version_minor": 0
            },
            "text/plain": [
              "  0%|          | 0/750 [00:00<?, ?it/s]"
            ]
          },
          "metadata": {},
          "output_type": "display_data"
        },
        {
          "name": "stdout",
          "output_type": "stream",
          "text": [
            "Epoch 121, mean batch loss 1.1488956832091013\n",
            "Accuracy of the network on the 10000 test images: 59 %\n"
          ]
        },
        {
          "data": {
            "application/vnd.jupyter.widget-view+json": {
              "model_id": "6d7da04c4819415f902d36cc6f5c4b05",
              "version_major": 2,
              "version_minor": 0
            },
            "text/plain": [
              "  0%|          | 0/750 [00:00<?, ?it/s]"
            ]
          },
          "metadata": {},
          "output_type": "display_data"
        },
        {
          "name": "stdout",
          "output_type": "stream",
          "text": [
            "Epoch 122, mean batch loss 1.1465733391443889\n",
            "Accuracy of the network on the 10000 test images: 57 %\n"
          ]
        },
        {
          "data": {
            "application/vnd.jupyter.widget-view+json": {
              "model_id": "0059ab1bc11f40259563a8df8acfd888",
              "version_major": 2,
              "version_minor": 0
            },
            "text/plain": [
              "  0%|          | 0/750 [00:00<?, ?it/s]"
            ]
          },
          "metadata": {},
          "output_type": "display_data"
        },
        {
          "name": "stdout",
          "output_type": "stream",
          "text": [
            "Epoch 123, mean batch loss 1.148891562461853\n",
            "Accuracy of the network on the 10000 test images: 58 %\n"
          ]
        },
        {
          "data": {
            "application/vnd.jupyter.widget-view+json": {
              "model_id": "3e018fef2b1b4339994d25055595bbee",
              "version_major": 2,
              "version_minor": 0
            },
            "text/plain": [
              "  0%|          | 0/750 [00:00<?, ?it/s]"
            ]
          },
          "metadata": {},
          "output_type": "display_data"
        },
        {
          "name": "stdout",
          "output_type": "stream",
          "text": [
            "Epoch 124, mean batch loss 1.1408928000132244\n",
            "Accuracy of the network on the 10000 test images: 57 %\n"
          ]
        },
        {
          "data": {
            "application/vnd.jupyter.widget-view+json": {
              "model_id": "bc2d66d7d8124b06a370d1aa14fe954b",
              "version_major": 2,
              "version_minor": 0
            },
            "text/plain": [
              "  0%|          | 0/750 [00:00<?, ?it/s]"
            ]
          },
          "metadata": {},
          "output_type": "display_data"
        },
        {
          "name": "stdout",
          "output_type": "stream",
          "text": [
            "Epoch 125, mean batch loss 1.14561905447642\n",
            "Accuracy of the network on the 10000 test images: 58 %\n"
          ]
        },
        {
          "data": {
            "application/vnd.jupyter.widget-view+json": {
              "model_id": "2b8509b722d540a1a4c65af0a15d0a4e",
              "version_major": 2,
              "version_minor": 0
            },
            "text/plain": [
              "  0%|          | 0/750 [00:00<?, ?it/s]"
            ]
          },
          "metadata": {},
          "output_type": "display_data"
        },
        {
          "name": "stdout",
          "output_type": "stream",
          "text": [
            "Epoch 126, mean batch loss 1.1483279829025268\n",
            "Accuracy of the network on the 10000 test images: 55 %\n"
          ]
        },
        {
          "data": {
            "application/vnd.jupyter.widget-view+json": {
              "model_id": "3dd2542e9e7d4e998a798784fe08cd7c",
              "version_major": 2,
              "version_minor": 0
            },
            "text/plain": [
              "  0%|          | 0/750 [00:00<?, ?it/s]"
            ]
          },
          "metadata": {},
          "output_type": "display_data"
        },
        {
          "name": "stdout",
          "output_type": "stream",
          "text": [
            "Epoch 127, mean batch loss 1.1419909550348917\n",
            "Accuracy of the network on the 10000 test images: 55 %\n"
          ]
        },
        {
          "data": {
            "application/vnd.jupyter.widget-view+json": {
              "model_id": "fcb0fbf221d24ccba11d0f116a6dc06e",
              "version_major": 2,
              "version_minor": 0
            },
            "text/plain": [
              "  0%|          | 0/750 [00:00<?, ?it/s]"
            ]
          },
          "metadata": {},
          "output_type": "display_data"
        },
        {
          "name": "stdout",
          "output_type": "stream",
          "text": [
            "Epoch 128, mean batch loss 1.1375263291200002\n",
            "Accuracy of the network on the 10000 test images: 56 %\n"
          ]
        },
        {
          "data": {
            "application/vnd.jupyter.widget-view+json": {
              "model_id": "bf27887345584ff0ae9f4736c1c2d0d6",
              "version_major": 2,
              "version_minor": 0
            },
            "text/plain": [
              "  0%|          | 0/750 [00:00<?, ?it/s]"
            ]
          },
          "metadata": {},
          "output_type": "display_data"
        },
        {
          "name": "stdout",
          "output_type": "stream",
          "text": [
            "Epoch 129, mean batch loss 1.1373424332141877\n",
            "Accuracy of the network on the 10000 test images: 57 %\n"
          ]
        },
        {
          "data": {
            "application/vnd.jupyter.widget-view+json": {
              "model_id": "5a79e57ffacc4da49fbf4953bad6ddfe",
              "version_major": 2,
              "version_minor": 0
            },
            "text/plain": [
              "  0%|          | 0/750 [00:00<?, ?it/s]"
            ]
          },
          "metadata": {},
          "output_type": "display_data"
        },
        {
          "name": "stdout",
          "output_type": "stream",
          "text": [
            "Epoch 130, mean batch loss 1.1338742922941845\n",
            "Accuracy of the network on the 10000 test images: 56 %\n"
          ]
        },
        {
          "data": {
            "application/vnd.jupyter.widget-view+json": {
              "model_id": "c947ecc3ca2746758b1552161f9bb54e",
              "version_major": 2,
              "version_minor": 0
            },
            "text/plain": [
              "  0%|          | 0/750 [00:00<?, ?it/s]"
            ]
          },
          "metadata": {},
          "output_type": "display_data"
        },
        {
          "name": "stdout",
          "output_type": "stream",
          "text": [
            "Epoch 131, mean batch loss 1.1379149034023286\n",
            "Accuracy of the network on the 10000 test images: 56 %\n"
          ]
        },
        {
          "data": {
            "application/vnd.jupyter.widget-view+json": {
              "model_id": "1a53bd3a385c489d8b4c295172c045ec",
              "version_major": 2,
              "version_minor": 0
            },
            "text/plain": [
              "  0%|          | 0/750 [00:00<?, ?it/s]"
            ]
          },
          "metadata": {},
          "output_type": "display_data"
        },
        {
          "name": "stdout",
          "output_type": "stream",
          "text": [
            "Epoch 132, mean batch loss 1.1382827706336975\n",
            "Accuracy of the network on the 10000 test images: 55 %\n"
          ]
        },
        {
          "data": {
            "application/vnd.jupyter.widget-view+json": {
              "model_id": "545deb91478f43dfbe90921b202543b1",
              "version_major": 2,
              "version_minor": 0
            },
            "text/plain": [
              "  0%|          | 0/750 [00:00<?, ?it/s]"
            ]
          },
          "metadata": {},
          "output_type": "display_data"
        },
        {
          "name": "stdout",
          "output_type": "stream",
          "text": [
            "Epoch 133, mean batch loss 1.1385960834821065\n",
            "Accuracy of the network on the 10000 test images: 58 %\n"
          ]
        },
        {
          "data": {
            "application/vnd.jupyter.widget-view+json": {
              "model_id": "cf60cd74f0094daaa27a3c5fb16065b7",
              "version_major": 2,
              "version_minor": 0
            },
            "text/plain": [
              "  0%|          | 0/750 [00:00<?, ?it/s]"
            ]
          },
          "metadata": {},
          "output_type": "display_data"
        },
        {
          "name": "stdout",
          "output_type": "stream",
          "text": [
            "Epoch 134, mean batch loss 1.1336373204390209\n",
            "Accuracy of the network on the 10000 test images: 57 %\n"
          ]
        },
        {
          "data": {
            "application/vnd.jupyter.widget-view+json": {
              "model_id": "044bd8e430a5472486ca7f4381d8ed80",
              "version_major": 2,
              "version_minor": 0
            },
            "text/plain": [
              "  0%|          | 0/750 [00:00<?, ?it/s]"
            ]
          },
          "metadata": {},
          "output_type": "display_data"
        },
        {
          "name": "stdout",
          "output_type": "stream",
          "text": [
            "Epoch 135, mean batch loss 1.1349471849600474\n",
            "Accuracy of the network on the 10000 test images: 56 %\n"
          ]
        },
        {
          "data": {
            "application/vnd.jupyter.widget-view+json": {
              "model_id": "225ff0df98704850893af57fa7c83463",
              "version_major": 2,
              "version_minor": 0
            },
            "text/plain": [
              "  0%|          | 0/750 [00:00<?, ?it/s]"
            ]
          },
          "metadata": {},
          "output_type": "display_data"
        },
        {
          "name": "stdout",
          "output_type": "stream",
          "text": [
            "Epoch 136, mean batch loss 1.125618281841278\n",
            "Accuracy of the network on the 10000 test images: 58 %\n"
          ]
        },
        {
          "data": {
            "application/vnd.jupyter.widget-view+json": {
              "model_id": "c7f9c3a2059c45c98f47781656fcc1ba",
              "version_major": 2,
              "version_minor": 0
            },
            "text/plain": [
              "  0%|          | 0/750 [00:00<?, ?it/s]"
            ]
          },
          "metadata": {},
          "output_type": "display_data"
        },
        {
          "name": "stdout",
          "output_type": "stream",
          "text": [
            "Epoch 137, mean batch loss 1.1313257603645324\n",
            "Accuracy of the network on the 10000 test images: 56 %\n"
          ]
        },
        {
          "data": {
            "application/vnd.jupyter.widget-view+json": {
              "model_id": "0ac497a16c4a4a7f899426a1e5a5c90a",
              "version_major": 2,
              "version_minor": 0
            },
            "text/plain": [
              "  0%|          | 0/750 [00:00<?, ?it/s]"
            ]
          },
          "metadata": {},
          "output_type": "display_data"
        },
        {
          "name": "stdout",
          "output_type": "stream",
          "text": [
            "Epoch 138, mean batch loss 1.1268501756985982\n",
            "Accuracy of the network on the 10000 test images: 56 %\n"
          ]
        },
        {
          "data": {
            "application/vnd.jupyter.widget-view+json": {
              "model_id": "f28fda39e3cf48189aab21214db866f6",
              "version_major": 2,
              "version_minor": 0
            },
            "text/plain": [
              "  0%|          | 0/750 [00:00<?, ?it/s]"
            ]
          },
          "metadata": {},
          "output_type": "display_data"
        },
        {
          "name": "stdout",
          "output_type": "stream",
          "text": [
            "Epoch 139, mean batch loss 1.125770713408788\n",
            "Accuracy of the network on the 10000 test images: 58 %\n"
          ]
        },
        {
          "data": {
            "application/vnd.jupyter.widget-view+json": {
              "model_id": "d225dff9d0b84fb39967d02cb79516b2",
              "version_major": 2,
              "version_minor": 0
            },
            "text/plain": [
              "  0%|          | 0/750 [00:00<?, ?it/s]"
            ]
          },
          "metadata": {},
          "output_type": "display_data"
        },
        {
          "name": "stdout",
          "output_type": "stream",
          "text": [
            "Epoch 140, mean batch loss 1.122502300421397\n",
            "New learning rate is:  0.0001\n",
            "Accuracy of the network on the 10000 test images: 56 %\n"
          ]
        },
        {
          "data": {
            "application/vnd.jupyter.widget-view+json": {
              "model_id": "4616537fcff541afa7a1cbf1322930aa",
              "version_major": 2,
              "version_minor": 0
            },
            "text/plain": [
              "  0%|          | 0/750 [00:00<?, ?it/s]"
            ]
          },
          "metadata": {},
          "output_type": "display_data"
        },
        {
          "name": "stdout",
          "output_type": "stream",
          "text": [
            "Epoch 141, mean batch loss 0.9840216093063354\n",
            "Accuracy of the network on the 10000 test images: 62 %\n"
          ]
        },
        {
          "data": {
            "application/vnd.jupyter.widget-view+json": {
              "model_id": "1f5cd330748f40759920eb4c40a9e81f",
              "version_major": 2,
              "version_minor": 0
            },
            "text/plain": [
              "  0%|          | 0/750 [00:00<?, ?it/s]"
            ]
          },
          "metadata": {},
          "output_type": "display_data"
        },
        {
          "name": "stdout",
          "output_type": "stream",
          "text": [
            "Epoch 142, mean batch loss 0.9435174082914988\n",
            "Accuracy of the network on the 10000 test images: 62 %\n"
          ]
        },
        {
          "data": {
            "application/vnd.jupyter.widget-view+json": {
              "model_id": "df9156cb766d40088f157cac33e07628",
              "version_major": 2,
              "version_minor": 0
            },
            "text/plain": [
              "  0%|          | 0/750 [00:00<?, ?it/s]"
            ]
          },
          "metadata": {},
          "output_type": "display_data"
        },
        {
          "name": "stdout",
          "output_type": "stream",
          "text": [
            "Epoch 143, mean batch loss 0.9327524352868398\n",
            "Accuracy of the network on the 10000 test images: 63 %\n"
          ]
        },
        {
          "data": {
            "application/vnd.jupyter.widget-view+json": {
              "model_id": "ada653b42a4440aaa251b2ca9be7b94e",
              "version_major": 2,
              "version_minor": 0
            },
            "text/plain": [
              "  0%|          | 0/750 [00:00<?, ?it/s]"
            ]
          },
          "metadata": {},
          "output_type": "display_data"
        },
        {
          "name": "stdout",
          "output_type": "stream",
          "text": [
            "Epoch 144, mean batch loss 0.9212414368788401\n",
            "Accuracy of the network on the 10000 test images: 63 %\n"
          ]
        },
        {
          "data": {
            "application/vnd.jupyter.widget-view+json": {
              "model_id": "11b70563b578420aa2a9d86f4e0cd902",
              "version_major": 2,
              "version_minor": 0
            },
            "text/plain": [
              "  0%|          | 0/750 [00:00<?, ?it/s]"
            ]
          },
          "metadata": {},
          "output_type": "display_data"
        },
        {
          "name": "stdout",
          "output_type": "stream",
          "text": [
            "Epoch 145, mean batch loss 0.9165865478515625\n",
            "Accuracy of the network on the 10000 test images: 63 %\n"
          ]
        },
        {
          "data": {
            "application/vnd.jupyter.widget-view+json": {
              "model_id": "155f4a1b859e42c4866906f26231b737",
              "version_major": 2,
              "version_minor": 0
            },
            "text/plain": [
              "  0%|          | 0/750 [00:00<?, ?it/s]"
            ]
          },
          "metadata": {},
          "output_type": "display_data"
        },
        {
          "name": "stdout",
          "output_type": "stream",
          "text": [
            "Epoch 146, mean batch loss 0.9090171608924865\n",
            "Accuracy of the network on the 10000 test images: 63 %\n"
          ]
        },
        {
          "data": {
            "application/vnd.jupyter.widget-view+json": {
              "model_id": "35b22273b7ab4061838a4b6cd4960926",
              "version_major": 2,
              "version_minor": 0
            },
            "text/plain": [
              "  0%|          | 0/750 [00:00<?, ?it/s]"
            ]
          },
          "metadata": {},
          "output_type": "display_data"
        },
        {
          "name": "stdout",
          "output_type": "stream",
          "text": [
            "Epoch 147, mean batch loss 0.9063367181619009\n",
            "Accuracy of the network on the 10000 test images: 63 %\n"
          ]
        },
        {
          "data": {
            "application/vnd.jupyter.widget-view+json": {
              "model_id": "cab931a849b9477d8e29d4935174a5d3",
              "version_major": 2,
              "version_minor": 0
            },
            "text/plain": [
              "  0%|          | 0/750 [00:00<?, ?it/s]"
            ]
          },
          "metadata": {},
          "output_type": "display_data"
        },
        {
          "name": "stdout",
          "output_type": "stream",
          "text": [
            "Epoch 148, mean batch loss 0.8990672674179078\n",
            "Accuracy of the network on the 10000 test images: 63 %\n"
          ]
        },
        {
          "data": {
            "application/vnd.jupyter.widget-view+json": {
              "model_id": "0f9f83f916a644d09e93dd1f9661a91c",
              "version_major": 2,
              "version_minor": 0
            },
            "text/plain": [
              "  0%|          | 0/750 [00:00<?, ?it/s]"
            ]
          },
          "metadata": {},
          "output_type": "display_data"
        },
        {
          "name": "stdout",
          "output_type": "stream",
          "text": [
            "Epoch 149, mean batch loss 0.8985240120887756\n",
            "Accuracy of the network on the 10000 test images: 63 %\n"
          ]
        },
        {
          "data": {
            "application/vnd.jupyter.widget-view+json": {
              "model_id": "9cf3f70504dd4b2c86fa172439eace73",
              "version_major": 2,
              "version_minor": 0
            },
            "text/plain": [
              "  0%|          | 0/750 [00:00<?, ?it/s]"
            ]
          },
          "metadata": {},
          "output_type": "display_data"
        },
        {
          "name": "stdout",
          "output_type": "stream",
          "text": [
            "Epoch 150, mean batch loss 0.889785884141922\n",
            "Accuracy of the network on the 10000 test images: 64 %\n"
          ]
        },
        {
          "data": {
            "application/vnd.jupyter.widget-view+json": {
              "model_id": "59dd646b5eb449f4b41eb24413d32cd7",
              "version_major": 2,
              "version_minor": 0
            },
            "text/plain": [
              "  0%|          | 0/750 [00:00<?, ?it/s]"
            ]
          },
          "metadata": {},
          "output_type": "display_data"
        },
        {
          "name": "stdout",
          "output_type": "stream",
          "text": [
            "Epoch 151, mean batch loss 0.8922137676874796\n",
            "Accuracy of the network on the 10000 test images: 64 %\n"
          ]
        },
        {
          "data": {
            "application/vnd.jupyter.widget-view+json": {
              "model_id": "9961e54b30814163a6701d5f8a1b4a2b",
              "version_major": 2,
              "version_minor": 0
            },
            "text/plain": [
              "  0%|          | 0/750 [00:00<?, ?it/s]"
            ]
          },
          "metadata": {},
          "output_type": "display_data"
        },
        {
          "name": "stdout",
          "output_type": "stream",
          "text": [
            "Epoch 152, mean batch loss 0.8888292148907979\n",
            "Accuracy of the network on the 10000 test images: 64 %\n"
          ]
        },
        {
          "data": {
            "application/vnd.jupyter.widget-view+json": {
              "model_id": "8a3dadc283f2436284f163d99bbf4648",
              "version_major": 2,
              "version_minor": 0
            },
            "text/plain": [
              "  0%|          | 0/750 [00:00<?, ?it/s]"
            ]
          },
          "metadata": {},
          "output_type": "display_data"
        },
        {
          "name": "stdout",
          "output_type": "stream",
          "text": [
            "Epoch 153, mean batch loss 0.8820735530058543\n",
            "Accuracy of the network on the 10000 test images: 64 %\n"
          ]
        },
        {
          "data": {
            "application/vnd.jupyter.widget-view+json": {
              "model_id": "c8a49ca7eadc440f8d9769d149526780",
              "version_major": 2,
              "version_minor": 0
            },
            "text/plain": [
              "  0%|          | 0/750 [00:00<?, ?it/s]"
            ]
          },
          "metadata": {},
          "output_type": "display_data"
        },
        {
          "name": "stdout",
          "output_type": "stream",
          "text": [
            "Epoch 154, mean batch loss 0.8813696443239848\n",
            "Accuracy of the network on the 10000 test images: 64 %\n"
          ]
        },
        {
          "data": {
            "application/vnd.jupyter.widget-view+json": {
              "model_id": "e564427d6f6d4e7ab8a0a2219d93d677",
              "version_major": 2,
              "version_minor": 0
            },
            "text/plain": [
              "  0%|          | 0/750 [00:00<?, ?it/s]"
            ]
          },
          "metadata": {},
          "output_type": "display_data"
        },
        {
          "name": "stdout",
          "output_type": "stream",
          "text": [
            "Epoch 155, mean batch loss 0.8775231798489889\n",
            "Accuracy of the network on the 10000 test images: 64 %\n"
          ]
        },
        {
          "data": {
            "application/vnd.jupyter.widget-view+json": {
              "model_id": "ba4c993cd1a34e188b16938daa4955ec",
              "version_major": 2,
              "version_minor": 0
            },
            "text/plain": [
              "  0%|          | 0/750 [00:00<?, ?it/s]"
            ]
          },
          "metadata": {},
          "output_type": "display_data"
        },
        {
          "name": "stdout",
          "output_type": "stream",
          "text": [
            "Epoch 156, mean batch loss 0.8782562239964803\n",
            "Accuracy of the network on the 10000 test images: 63 %\n"
          ]
        },
        {
          "data": {
            "application/vnd.jupyter.widget-view+json": {
              "model_id": "a0f206d9b533486386b2dde67bcd0e60",
              "version_major": 2,
              "version_minor": 0
            },
            "text/plain": [
              "  0%|          | 0/750 [00:00<?, ?it/s]"
            ]
          },
          "metadata": {},
          "output_type": "display_data"
        },
        {
          "name": "stdout",
          "output_type": "stream",
          "text": [
            "Epoch 157, mean batch loss 0.8730873026450475\n",
            "Accuracy of the network on the 10000 test images: 64 %\n"
          ]
        },
        {
          "data": {
            "application/vnd.jupyter.widget-view+json": {
              "model_id": "92d3de07225244f388ff8e9e162b8cd5",
              "version_major": 2,
              "version_minor": 0
            },
            "text/plain": [
              "  0%|          | 0/750 [00:00<?, ?it/s]"
            ]
          },
          "metadata": {},
          "output_type": "display_data"
        },
        {
          "name": "stdout",
          "output_type": "stream",
          "text": [
            "Epoch 158, mean batch loss 0.8749313844045004\n",
            "Accuracy of the network on the 10000 test images: 64 %\n"
          ]
        },
        {
          "data": {
            "application/vnd.jupyter.widget-view+json": {
              "model_id": "e56a062e6d2c483face41757bfd3abee",
              "version_major": 2,
              "version_minor": 0
            },
            "text/plain": [
              "  0%|          | 0/750 [00:00<?, ?it/s]"
            ]
          },
          "metadata": {},
          "output_type": "display_data"
        },
        {
          "name": "stdout",
          "output_type": "stream",
          "text": [
            "Epoch 159, mean batch loss 0.8707600288391113\n",
            "Accuracy of the network on the 10000 test images: 64 %\n"
          ]
        },
        {
          "data": {
            "application/vnd.jupyter.widget-view+json": {
              "model_id": "08ac758af68148c78d8636cef8182566",
              "version_major": 2,
              "version_minor": 0
            },
            "text/plain": [
              "  0%|          | 0/750 [00:00<?, ?it/s]"
            ]
          },
          "metadata": {},
          "output_type": "display_data"
        },
        {
          "name": "stdout",
          "output_type": "stream",
          "text": [
            "Epoch 160, mean batch loss 0.8694546046257019\n",
            "Accuracy of the network on the 10000 test images: 64 %\n"
          ]
        },
        {
          "data": {
            "application/vnd.jupyter.widget-view+json": {
              "model_id": "880cefc702d54a0e86949b555e227f86",
              "version_major": 2,
              "version_minor": 0
            },
            "text/plain": [
              "  0%|          | 0/750 [00:00<?, ?it/s]"
            ]
          },
          "metadata": {},
          "output_type": "display_data"
        },
        {
          "name": "stdout",
          "output_type": "stream",
          "text": [
            "Epoch 161, mean batch loss 0.8681079549789429\n",
            "Accuracy of the network on the 10000 test images: 64 %\n"
          ]
        },
        {
          "data": {
            "application/vnd.jupyter.widget-view+json": {
              "model_id": "dff2ec51183743b3af24e0aa42246967",
              "version_major": 2,
              "version_minor": 0
            },
            "text/plain": [
              "  0%|          | 0/750 [00:00<?, ?it/s]"
            ]
          },
          "metadata": {},
          "output_type": "display_data"
        },
        {
          "name": "stdout",
          "output_type": "stream",
          "text": [
            "Epoch 162, mean batch loss 0.8647994355758031\n",
            "Accuracy of the network on the 10000 test images: 64 %\n"
          ]
        },
        {
          "data": {
            "application/vnd.jupyter.widget-view+json": {
              "model_id": "3ad386f9c96b4800822bd9b406a6c60a",
              "version_major": 2,
              "version_minor": 0
            },
            "text/plain": [
              "  0%|          | 0/750 [00:00<?, ?it/s]"
            ]
          },
          "metadata": {},
          "output_type": "display_data"
        },
        {
          "name": "stdout",
          "output_type": "stream",
          "text": [
            "Epoch 163, mean batch loss 0.862917544166247\n",
            "Accuracy of the network on the 10000 test images: 64 %\n"
          ]
        },
        {
          "data": {
            "application/vnd.jupyter.widget-view+json": {
              "model_id": "d159cc95c79b4a80be6e7848ddb71967",
              "version_major": 2,
              "version_minor": 0
            },
            "text/plain": [
              "  0%|          | 0/750 [00:00<?, ?it/s]"
            ]
          },
          "metadata": {},
          "output_type": "display_data"
        },
        {
          "name": "stdout",
          "output_type": "stream",
          "text": [
            "Epoch 164, mean batch loss 0.8607301537195842\n",
            "Accuracy of the network on the 10000 test images: 64 %\n"
          ]
        },
        {
          "data": {
            "application/vnd.jupyter.widget-view+json": {
              "model_id": "16586a44158549b69c21f7bf2e18dffb",
              "version_major": 2,
              "version_minor": 0
            },
            "text/plain": [
              "  0%|          | 0/750 [00:00<?, ?it/s]"
            ]
          },
          "metadata": {},
          "output_type": "display_data"
        },
        {
          "name": "stdout",
          "output_type": "stream",
          "text": [
            "Epoch 165, mean batch loss 0.8558806927998861\n",
            "Accuracy of the network on the 10000 test images: 64 %\n"
          ]
        },
        {
          "data": {
            "application/vnd.jupyter.widget-view+json": {
              "model_id": "d8ccf535714d4d32a76351a22d5ab8e2",
              "version_major": 2,
              "version_minor": 0
            },
            "text/plain": [
              "  0%|          | 0/750 [00:00<?, ?it/s]"
            ]
          },
          "metadata": {},
          "output_type": "display_data"
        },
        {
          "name": "stdout",
          "output_type": "stream",
          "text": [
            "Epoch 166, mean batch loss 0.8544168206055959\n",
            "Accuracy of the network on the 10000 test images: 64 %\n"
          ]
        },
        {
          "data": {
            "application/vnd.jupyter.widget-view+json": {
              "model_id": "40272694594f43e7a0a4d5c0801b7b0a",
              "version_major": 2,
              "version_minor": 0
            },
            "text/plain": [
              "  0%|          | 0/750 [00:00<?, ?it/s]"
            ]
          },
          "metadata": {},
          "output_type": "display_data"
        },
        {
          "name": "stdout",
          "output_type": "stream",
          "text": [
            "Epoch 167, mean batch loss 0.8571016309261322\n",
            "Accuracy of the network on the 10000 test images: 64 %\n"
          ]
        },
        {
          "data": {
            "application/vnd.jupyter.widget-view+json": {
              "model_id": "b6f1d0e35e96415ea7b44df21f7a36e4",
              "version_major": 2,
              "version_minor": 0
            },
            "text/plain": [
              "  0%|          | 0/750 [00:00<?, ?it/s]"
            ]
          },
          "metadata": {},
          "output_type": "display_data"
        },
        {
          "name": "stdout",
          "output_type": "stream",
          "text": [
            "Epoch 168, mean batch loss 0.8543993241786957\n",
            "Accuracy of the network on the 10000 test images: 64 %\n"
          ]
        },
        {
          "data": {
            "application/vnd.jupyter.widget-view+json": {
              "model_id": "12169e986ad6413cb04e5c1078006bc8",
              "version_major": 2,
              "version_minor": 0
            },
            "text/plain": [
              "  0%|          | 0/750 [00:00<?, ?it/s]"
            ]
          },
          "metadata": {},
          "output_type": "display_data"
        },
        {
          "name": "stdout",
          "output_type": "stream",
          "text": [
            "Epoch 169, mean batch loss 0.8499974634647369\n",
            "Accuracy of the network on the 10000 test images: 64 %\n"
          ]
        },
        {
          "data": {
            "application/vnd.jupyter.widget-view+json": {
              "model_id": "350558ae0f1c4f0086e5f715da9bde17",
              "version_major": 2,
              "version_minor": 0
            },
            "text/plain": [
              "  0%|          | 0/750 [00:00<?, ?it/s]"
            ]
          },
          "metadata": {},
          "output_type": "display_data"
        },
        {
          "name": "stdout",
          "output_type": "stream",
          "text": [
            "Epoch 170, mean batch loss 0.8525244133075078\n",
            "Accuracy of the network on the 10000 test images: 65 %\n"
          ]
        },
        {
          "data": {
            "application/vnd.jupyter.widget-view+json": {
              "model_id": "541e4d217c074344bff144d086489c7f",
              "version_major": 2,
              "version_minor": 0
            },
            "text/plain": [
              "  0%|          | 0/750 [00:00<?, ?it/s]"
            ]
          },
          "metadata": {},
          "output_type": "display_data"
        },
        {
          "name": "stdout",
          "output_type": "stream",
          "text": [
            "Epoch 171, mean batch loss 0.8479479953845342\n",
            "Accuracy of the network on the 10000 test images: 64 %\n"
          ]
        },
        {
          "data": {
            "application/vnd.jupyter.widget-view+json": {
              "model_id": "a8d96c3c8ff64d1696a5df59c13d56af",
              "version_major": 2,
              "version_minor": 0
            },
            "text/plain": [
              "  0%|          | 0/750 [00:00<?, ?it/s]"
            ]
          },
          "metadata": {},
          "output_type": "display_data"
        },
        {
          "name": "stdout",
          "output_type": "stream",
          "text": [
            "Epoch 172, mean batch loss 0.8461728128194809\n",
            "Accuracy of the network on the 10000 test images: 65 %\n"
          ]
        },
        {
          "data": {
            "application/vnd.jupyter.widget-view+json": {
              "model_id": "0b415c9b667045799cc6748ceff53676",
              "version_major": 2,
              "version_minor": 0
            },
            "text/plain": [
              "  0%|          | 0/750 [00:00<?, ?it/s]"
            ]
          },
          "metadata": {},
          "output_type": "display_data"
        },
        {
          "name": "stdout",
          "output_type": "stream",
          "text": [
            "Epoch 173, mean batch loss 0.8465791916052501\n",
            "Accuracy of the network on the 10000 test images: 64 %\n"
          ]
        },
        {
          "data": {
            "application/vnd.jupyter.widget-view+json": {
              "model_id": "e44a1c8070ab45d2be544c7fa4ba3634",
              "version_major": 2,
              "version_minor": 0
            },
            "text/plain": [
              "  0%|          | 0/750 [00:00<?, ?it/s]"
            ]
          },
          "metadata": {},
          "output_type": "display_data"
        },
        {
          "name": "stdout",
          "output_type": "stream",
          "text": [
            "Epoch 174, mean batch loss 0.8415654496749242\n",
            "Accuracy of the network on the 10000 test images: 64 %\n"
          ]
        },
        {
          "data": {
            "application/vnd.jupyter.widget-view+json": {
              "model_id": "47fe5ab99dc04ddab32f2de3ff59ae99",
              "version_major": 2,
              "version_minor": 0
            },
            "text/plain": [
              "  0%|          | 0/750 [00:00<?, ?it/s]"
            ]
          },
          "metadata": {},
          "output_type": "display_data"
        },
        {
          "name": "stdout",
          "output_type": "stream",
          "text": [
            "Epoch 175, mean batch loss 0.8461902298132579\n",
            "Accuracy of the network on the 10000 test images: 64 %\n"
          ]
        },
        {
          "data": {
            "application/vnd.jupyter.widget-view+json": {
              "model_id": "20f4b1aa602944e6ba06d92458216353",
              "version_major": 2,
              "version_minor": 0
            },
            "text/plain": [
              "  0%|          | 0/750 [00:00<?, ?it/s]"
            ]
          },
          "metadata": {},
          "output_type": "display_data"
        },
        {
          "name": "stdout",
          "output_type": "stream",
          "text": [
            "Epoch 176, mean batch loss 0.842004465341568\n",
            "Accuracy of the network on the 10000 test images: 64 %\n"
          ]
        },
        {
          "data": {
            "application/vnd.jupyter.widget-view+json": {
              "model_id": "b120e16d00504b09bc2b78e4e7814931",
              "version_major": 2,
              "version_minor": 0
            },
            "text/plain": [
              "  0%|          | 0/750 [00:00<?, ?it/s]"
            ]
          },
          "metadata": {},
          "output_type": "display_data"
        },
        {
          "name": "stdout",
          "output_type": "stream",
          "text": [
            "Epoch 177, mean batch loss 0.8387391901016236\n",
            "Accuracy of the network on the 10000 test images: 64 %\n"
          ]
        },
        {
          "data": {
            "application/vnd.jupyter.widget-view+json": {
              "model_id": "2c6b6c1a43424c8c96d31c9d8c870f17",
              "version_major": 2,
              "version_minor": 0
            },
            "text/plain": [
              "  0%|          | 0/750 [00:00<?, ?it/s]"
            ]
          },
          "metadata": {},
          "output_type": "display_data"
        },
        {
          "name": "stdout",
          "output_type": "stream",
          "text": [
            "Epoch 178, mean batch loss 0.8422760403156281\n",
            "Accuracy of the network on the 10000 test images: 64 %\n"
          ]
        },
        {
          "data": {
            "application/vnd.jupyter.widget-view+json": {
              "model_id": "51ef66bd551241bb833b1f826d3d702b",
              "version_major": 2,
              "version_minor": 0
            },
            "text/plain": [
              "  0%|          | 0/750 [00:00<?, ?it/s]"
            ]
          },
          "metadata": {},
          "output_type": "display_data"
        },
        {
          "name": "stdout",
          "output_type": "stream",
          "text": [
            "Epoch 179, mean batch loss 0.8366469165086746\n",
            "Accuracy of the network on the 10000 test images: 64 %\n"
          ]
        },
        {
          "data": {
            "application/vnd.jupyter.widget-view+json": {
              "model_id": "f11c98d0f7724d82bbb46959de1858e2",
              "version_major": 2,
              "version_minor": 0
            },
            "text/plain": [
              "  0%|          | 0/750 [00:00<?, ?it/s]"
            ]
          },
          "metadata": {},
          "output_type": "display_data"
        },
        {
          "name": "stdout",
          "output_type": "stream",
          "text": [
            "Epoch 180, mean batch loss 0.8332553760210673\n",
            "Accuracy of the network on the 10000 test images: 64 %\n"
          ]
        },
        {
          "data": {
            "application/vnd.jupyter.widget-view+json": {
              "model_id": "767ce346520e4cfabd2d419aaa940d67",
              "version_major": 2,
              "version_minor": 0
            },
            "text/plain": [
              "  0%|          | 0/750 [00:00<?, ?it/s]"
            ]
          },
          "metadata": {},
          "output_type": "display_data"
        },
        {
          "name": "stdout",
          "output_type": "stream",
          "text": [
            "Epoch 181, mean batch loss 0.8314489303032557\n",
            "Accuracy of the network on the 10000 test images: 65 %\n"
          ]
        },
        {
          "data": {
            "application/vnd.jupyter.widget-view+json": {
              "model_id": "b59acedd70d3411ead33159ce53ba490",
              "version_major": 2,
              "version_minor": 0
            },
            "text/plain": [
              "  0%|          | 0/750 [00:00<?, ?it/s]"
            ]
          },
          "metadata": {},
          "output_type": "display_data"
        },
        {
          "name": "stdout",
          "output_type": "stream",
          "text": [
            "Epoch 182, mean batch loss 0.8360516143242518\n",
            "Accuracy of the network on the 10000 test images: 64 %\n"
          ]
        },
        {
          "data": {
            "application/vnd.jupyter.widget-view+json": {
              "model_id": "03eb88638a804b87afa5277b364be944",
              "version_major": 2,
              "version_minor": 0
            },
            "text/plain": [
              "  0%|          | 0/750 [00:00<?, ?it/s]"
            ]
          },
          "metadata": {},
          "output_type": "display_data"
        },
        {
          "name": "stdout",
          "output_type": "stream",
          "text": [
            "Epoch 183, mean batch loss 0.8331864950259527\n",
            "Accuracy of the network on the 10000 test images: 64 %\n"
          ]
        },
        {
          "data": {
            "application/vnd.jupyter.widget-view+json": {
              "model_id": "8ee3cf5ac2f147c6bd5857c7427249b3",
              "version_major": 2,
              "version_minor": 0
            },
            "text/plain": [
              "  0%|          | 0/750 [00:00<?, ?it/s]"
            ]
          },
          "metadata": {},
          "output_type": "display_data"
        },
        {
          "name": "stdout",
          "output_type": "stream",
          "text": [
            "Epoch 184, mean batch loss 0.8344828479687373\n",
            "Accuracy of the network on the 10000 test images: 64 %\n"
          ]
        },
        {
          "data": {
            "application/vnd.jupyter.widget-view+json": {
              "model_id": "081bb02f51634dd0a0e1ac75360092ff",
              "version_major": 2,
              "version_minor": 0
            },
            "text/plain": [
              "  0%|          | 0/750 [00:00<?, ?it/s]"
            ]
          },
          "metadata": {},
          "output_type": "display_data"
        },
        {
          "name": "stdout",
          "output_type": "stream",
          "text": [
            "Epoch 185, mean batch loss 0.8325523017247518\n",
            "Accuracy of the network on the 10000 test images: 64 %\n"
          ]
        },
        {
          "data": {
            "application/vnd.jupyter.widget-view+json": {
              "model_id": "43ecc82624334554b7652144f022b9dd",
              "version_major": 2,
              "version_minor": 0
            },
            "text/plain": [
              "  0%|          | 0/750 [00:00<?, ?it/s]"
            ]
          },
          "metadata": {},
          "output_type": "display_data"
        },
        {
          "name": "stdout",
          "output_type": "stream",
          "text": [
            "Epoch 186, mean batch loss 0.8291379488706588\n",
            "Accuracy of the network on the 10000 test images: 65 %\n"
          ]
        },
        {
          "data": {
            "application/vnd.jupyter.widget-view+json": {
              "model_id": "6becc7e371564749a347ffa9552449c9",
              "version_major": 2,
              "version_minor": 0
            },
            "text/plain": [
              "  0%|          | 0/750 [00:00<?, ?it/s]"
            ]
          },
          "metadata": {},
          "output_type": "display_data"
        },
        {
          "name": "stdout",
          "output_type": "stream",
          "text": [
            "Epoch 187, mean batch loss 0.8267856903076172\n",
            "Accuracy of the network on the 10000 test images: 64 %\n"
          ]
        },
        {
          "data": {
            "application/vnd.jupyter.widget-view+json": {
              "model_id": "ec8b014168b24de1a5fdb48b137bb4f8",
              "version_major": 2,
              "version_minor": 0
            },
            "text/plain": [
              "  0%|          | 0/750 [00:00<?, ?it/s]"
            ]
          },
          "metadata": {},
          "output_type": "display_data"
        },
        {
          "name": "stdout",
          "output_type": "stream",
          "text": [
            "Epoch 188, mean batch loss 0.8265679821968078\n",
            "Accuracy of the network on the 10000 test images: 65 %\n"
          ]
        },
        {
          "data": {
            "application/vnd.jupyter.widget-view+json": {
              "model_id": "2437c6b11448454f8abb4360775561b7",
              "version_major": 2,
              "version_minor": 0
            },
            "text/plain": [
              "  0%|          | 0/750 [00:00<?, ?it/s]"
            ]
          },
          "metadata": {},
          "output_type": "display_data"
        },
        {
          "name": "stdout",
          "output_type": "stream",
          "text": [
            "Epoch 189, mean batch loss 0.8285709311962127\n",
            "Accuracy of the network on the 10000 test images: 64 %\n"
          ]
        },
        {
          "data": {
            "application/vnd.jupyter.widget-view+json": {
              "model_id": "cc829fec1969431991ff2beba109ce4f",
              "version_major": 2,
              "version_minor": 0
            },
            "text/plain": [
              "  0%|          | 0/750 [00:00<?, ?it/s]"
            ]
          },
          "metadata": {},
          "output_type": "display_data"
        },
        {
          "name": "stdout",
          "output_type": "stream",
          "text": [
            "Epoch 190, mean batch loss 0.8309661866823832\n",
            "New learning rate is:  1e-05\n",
            "Accuracy of the network on the 10000 test images: 64 %\n"
          ]
        },
        {
          "data": {
            "application/vnd.jupyter.widget-view+json": {
              "model_id": "5a0571bb5cae4828b451ff8b492c60ae",
              "version_major": 2,
              "version_minor": 0
            },
            "text/plain": [
              "  0%|          | 0/750 [00:00<?, ?it/s]"
            ]
          },
          "metadata": {},
          "output_type": "display_data"
        },
        {
          "name": "stdout",
          "output_type": "stream",
          "text": [
            "Epoch 191, mean batch loss 0.8040310261646907\n",
            "Accuracy of the network on the 10000 test images: 65 %\n"
          ]
        },
        {
          "data": {
            "application/vnd.jupyter.widget-view+json": {
              "model_id": "1935b8408efe41298e357714c3c565f8",
              "version_major": 2,
              "version_minor": 0
            },
            "text/plain": [
              "  0%|          | 0/750 [00:00<?, ?it/s]"
            ]
          },
          "metadata": {},
          "output_type": "display_data"
        },
        {
          "name": "stdout",
          "output_type": "stream",
          "text": [
            "Epoch 192, mean batch loss 0.7989691806634267\n",
            "Accuracy of the network on the 10000 test images: 65 %\n"
          ]
        },
        {
          "data": {
            "application/vnd.jupyter.widget-view+json": {
              "model_id": "769be1065a1044c6b4f173735ad04b24",
              "version_major": 2,
              "version_minor": 0
            },
            "text/plain": [
              "  0%|          | 0/750 [00:00<?, ?it/s]"
            ]
          },
          "metadata": {},
          "output_type": "display_data"
        },
        {
          "name": "stdout",
          "output_type": "stream",
          "text": [
            "Epoch 193, mean batch loss 0.7974806596835454\n",
            "Accuracy of the network on the 10000 test images: 65 %\n"
          ]
        },
        {
          "data": {
            "application/vnd.jupyter.widget-view+json": {
              "model_id": "ef677fcca20243a2abc4d8f3cb6c3efe",
              "version_major": 2,
              "version_minor": 0
            },
            "text/plain": [
              "  0%|          | 0/750 [00:00<?, ?it/s]"
            ]
          },
          "metadata": {},
          "output_type": "display_data"
        },
        {
          "name": "stdout",
          "output_type": "stream",
          "text": [
            "Epoch 194, mean batch loss 0.7937462737560272\n",
            "Accuracy of the network on the 10000 test images: 65 %\n"
          ]
        },
        {
          "data": {
            "application/vnd.jupyter.widget-view+json": {
              "model_id": "ebde863306e24c2eb012c71c3e27347f",
              "version_major": 2,
              "version_minor": 0
            },
            "text/plain": [
              "  0%|          | 0/750 [00:00<?, ?it/s]"
            ]
          },
          "metadata": {},
          "output_type": "display_data"
        },
        {
          "name": "stdout",
          "output_type": "stream",
          "text": [
            "Epoch 195, mean batch loss 0.79183822453022\n",
            "Accuracy of the network on the 10000 test images: 65 %\n"
          ]
        },
        {
          "data": {
            "application/vnd.jupyter.widget-view+json": {
              "model_id": "d61d126e0be144de80dfb58c430ad55c",
              "version_major": 2,
              "version_minor": 0
            },
            "text/plain": [
              "  0%|          | 0/750 [00:00<?, ?it/s]"
            ]
          },
          "metadata": {},
          "output_type": "display_data"
        },
        {
          "name": "stdout",
          "output_type": "stream",
          "text": [
            "Epoch 196, mean batch loss 0.7953484507401785\n",
            "Accuracy of the network on the 10000 test images: 65 %\n"
          ]
        },
        {
          "data": {
            "application/vnd.jupyter.widget-view+json": {
              "model_id": "2eec1613fa2043379a227108db1b61f4",
              "version_major": 2,
              "version_minor": 0
            },
            "text/plain": [
              "  0%|          | 0/750 [00:00<?, ?it/s]"
            ]
          },
          "metadata": {},
          "output_type": "display_data"
        },
        {
          "name": "stdout",
          "output_type": "stream",
          "text": [
            "Epoch 197, mean batch loss 0.792279285232226\n",
            "Accuracy of the network on the 10000 test images: 65 %\n"
          ]
        },
        {
          "data": {
            "application/vnd.jupyter.widget-view+json": {
              "model_id": "06726900127247448c4802316504b604",
              "version_major": 2,
              "version_minor": 0
            },
            "text/plain": [
              "  0%|          | 0/750 [00:00<?, ?it/s]"
            ]
          },
          "metadata": {},
          "output_type": "display_data"
        },
        {
          "name": "stdout",
          "output_type": "stream",
          "text": [
            "Epoch 198, mean batch loss 0.7920783481597901\n",
            "Accuracy of the network on the 10000 test images: 65 %\n"
          ]
        },
        {
          "data": {
            "application/vnd.jupyter.widget-view+json": {
              "model_id": "3a6569293e8a4ec1be54607cdb655576",
              "version_major": 2,
              "version_minor": 0
            },
            "text/plain": [
              "  0%|          | 0/750 [00:00<?, ?it/s]"
            ]
          },
          "metadata": {},
          "output_type": "display_data"
        },
        {
          "name": "stdout",
          "output_type": "stream",
          "text": [
            "Epoch 199, mean batch loss 0.7947763402462006\n",
            "Accuracy of the network on the 10000 test images: 65 %\n"
          ]
        },
        {
          "data": {
            "application/vnd.jupyter.widget-view+json": {
              "model_id": "4bd7d5db3d8a4f238bda98bc6c4874bb",
              "version_major": 2,
              "version_minor": 0
            },
            "text/plain": [
              "  0%|          | 0/750 [00:00<?, ?it/s]"
            ]
          },
          "metadata": {},
          "output_type": "display_data"
        },
        {
          "name": "stdout",
          "output_type": "stream",
          "text": [
            "Epoch 200, mean batch loss 0.7922713274558385\n",
            "Accuracy of the network on the 10000 test images: 65 %\n"
          ]
        }
      ]
    },
    {
      "cell_type": "code",
      "metadata": {
        "colab": {
          "background_save": true
        },
        "id": "sYO8-zoId5S5",
        "outputId": "96fa30b3-940d-4972-a8c0-c384e51a3c72"
      },
      "source": [
        "plt.plot(test_accs)"
      ],
      "execution_count": null,
      "outputs": [
        {
          "data": {
            "text/plain": [
              "[<matplotlib.lines.Line2D at 0x7fc74bb82710>]"
            ]
          },
          "execution_count": null,
          "metadata": {},
          "output_type": "execute_result"
        },
        {
          "data": {
            "image/png": "[encoded data removed]",
            "text/plain": [
              "<Figure size 432x288 with 1 Axes>"
            ]
          },
          "metadata": {},
          "output_type": "display_data"
        }
      ]
    },
    {
      "cell_type": "code",
      "metadata": {
        "colab": {
          "background_save": true
        },
        "id": "Tb2JHCIhd7eE",
        "outputId": "1360e43f-bf21-4adf-8099-202e0efd0ebc"
      },
      "source": [
        "plt.plot(train_losses)"
      ],
      "execution_count": null,
      "outputs": [
        {
          "data": {
            "text/plain": [
              "[<matplotlib.lines.Line2D at 0x7fc74b6e9150>]"
            ]
          },
          "execution_count": null,
          "metadata": {},
          "output_type": "execute_result"
        },
        {
          "data": {
            "image/png": "[encoded data removed]",
            "text/plain": [
              "<Figure size 432x288 with 1 Axes>"
            ]
          },
          "metadata": {},
          "output_type": "display_data"
        }
      ]
    }
  ]
}